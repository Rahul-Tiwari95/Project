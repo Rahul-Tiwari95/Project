{
 "cells": [
  {
   "cell_type": "code",
   "execution_count": 216,
   "metadata": {},
   "outputs": [],
   "source": [
    "import pandas as pd\n",
    "import numpy as np\n",
    "import pickle\n",
    "import matplotlib.pyplot as plt\n",
    "\n",
    "from sklearn.model_selection import train_test_split\n",
    "from sklearn.feature_extraction.text import CountVectorizer\n",
    "from nltk.tokenize import word_tokenize\n",
    "from sklearn.feature_extraction.text import TfidfVectorizer\n",
    "from sklearn.naive_bayes import MultinomialNB\n",
    "\n",
    "from sklearn.linear_model import LogisticRegression\n",
    "from sklearn.ensemble import RandomForestClassifier\n",
    "from sklearn.linear_model import SGDClassifier\n",
    "\n",
    "from sklearn.svm import LinearSVC\n",
    "from sklearn.ensemble import GradientBoostingClassifier\n",
    "\n",
    "\n",
    "\n",
    "from sklearn.model_selection import cross_val_score\n",
    "from sklearn.metrics import confusion_matrix\n",
    "from sklearn import metrics\n",
    "from sklearn.metrics import classification_report\n",
    "from sklearn.linear_model import SGDClassifier\n",
    "from nltk.tokenize import word_tokenize\n",
    "from collections import  Counter\n"
   ]
  },
  {
   "cell_type": "code",
   "execution_count": 326,
   "metadata": {},
   "outputs": [
    {
     "data": {
      "text/html": [
       "<div>\n",
       "<style scoped>\n",
       "    .dataframe tbody tr th:only-of-type {\n",
       "        vertical-align: middle;\n",
       "    }\n",
       "\n",
       "    .dataframe tbody tr th {\n",
       "        vertical-align: top;\n",
       "    }\n",
       "\n",
       "    .dataframe thead th {\n",
       "        text-align: right;\n",
       "    }\n",
       "</style>\n",
       "<table border=\"1\" class=\"dataframe\">\n",
       "  <thead>\n",
       "    <tr style=\"text-align: right;\">\n",
       "      <th></th>\n",
       "      <th>ID</th>\n",
       "      <th>Review</th>\n",
       "      <th>Rating</th>\n",
       "    </tr>\n",
       "  </thead>\n",
       "  <tbody>\n",
       "    <tr>\n",
       "      <th>0</th>\n",
       "      <td>0</td>\n",
       "      <td>exceptional service nice daughter priced king ...</td>\n",
       "      <td>5</td>\n",
       "    </tr>\n",
       "    <tr>\n",
       "      <th>1</th>\n",
       "      <td>1</td>\n",
       "      <td>beautiful relaxing jw marriott desert ridge ou...</td>\n",
       "      <td>5</td>\n",
       "    </tr>\n",
       "    <tr>\n",
       "      <th>2</th>\n",
       "      <td>2</td>\n",
       "      <td>location location min subway take blommingdale...</td>\n",
       "      <td>5</td>\n",
       "    </tr>\n",
       "    <tr>\n",
       "      <th>3</th>\n",
       "      <td>3</td>\n",
       "      <td>pleased nice safe flower market vast array res...</td>\n",
       "      <td>3</td>\n",
       "    </tr>\n",
       "    <tr>\n",
       "      <th>4</th>\n",
       "      <td>4</td>\n",
       "      <td>excellent service excellent location couple mi...</td>\n",
       "      <td>4</td>\n",
       "    </tr>\n",
       "    <tr>\n",
       "      <th>...</th>\n",
       "      <td>...</td>\n",
       "      <td>...</td>\n",
       "      <td>...</td>\n",
       "    </tr>\n",
       "    <tr>\n",
       "      <th>14338</th>\n",
       "      <td>14338</td>\n",
       "      <td>madrid perfect location tiny quiet street cent...</td>\n",
       "      <td>5</td>\n",
       "    </tr>\n",
       "    <tr>\n",
       "      <th>14339</th>\n",
       "      <td>14339</td>\n",
       "      <td>excellent florence chosen tripadviser hidden g...</td>\n",
       "      <td>5</td>\n",
       "    </tr>\n",
       "    <tr>\n",
       "      <th>14340</th>\n",
       "      <td>14340</td>\n",
       "      <td>place relax vacation book trip paradisus husba...</td>\n",
       "      <td>4</td>\n",
       "    </tr>\n",
       "    <tr>\n",
       "      <th>14341</th>\n",
       "      <td>14341</td>\n",
       "      <td>week seattle loved minute pacific plaza buy im...</td>\n",
       "      <td>3</td>\n",
       "    </tr>\n",
       "    <tr>\n",
       "      <th>14342</th>\n",
       "      <td>14342</td>\n",
       "      <td>clear internet reservation friday rang hour ad...</td>\n",
       "      <td>1</td>\n",
       "    </tr>\n",
       "  </tbody>\n",
       "</table>\n",
       "<p>14343 rows × 3 columns</p>\n",
       "</div>"
      ],
      "text/plain": [
       "          ID                                             Review  Rating\n",
       "0          0  exceptional service nice daughter priced king ...       5\n",
       "1          1  beautiful relaxing jw marriott desert ridge ou...       5\n",
       "2          2  location location min subway take blommingdale...       5\n",
       "3          3  pleased nice safe flower market vast array res...       3\n",
       "4          4  excellent service excellent location couple mi...       4\n",
       "...      ...                                                ...     ...\n",
       "14338  14338  madrid perfect location tiny quiet street cent...       5\n",
       "14339  14339  excellent florence chosen tripadviser hidden g...       5\n",
       "14340  14340  place relax vacation book trip paradisus husba...       4\n",
       "14341  14341  week seattle loved minute pacific plaza buy im...       3\n",
       "14342  14342  clear internet reservation friday rang hour ad...       1\n",
       "\n",
       "[14343 rows x 3 columns]"
      ]
     },
     "execution_count": 326,
     "metadata": {},
     "output_type": "execute_result"
    }
   ],
   "source": [
    "#read pickle file\n",
    "train_data=pd.read_pickle(\"train_first_data.pkl\")\n",
    "train_data"
   ]
  },
  {
   "cell_type": "code",
   "execution_count": 218,
   "metadata": {},
   "outputs": [
    {
     "data": {
      "text/plain": [
       "Text(0.5, 1.0, 'Word count vs Number of documents')"
      ]
     },
     "execution_count": 218,
     "metadata": {},
     "output_type": "execute_result"
    },
    {
     "data": {
      "image/png": "[encoded data removed]",
      "text/plain": [
       "<Figure size 576x360 with 1 Axes>"
      ]
     },
     "metadata": {
      "needs_background": "light"
     },
     "output_type": "display_data"
    }
   ],
   "source": [
    "#plot the word length of reviews\n",
    "word_length= pd.DataFrame({'doc_length': train_data.Review.apply(lambda x: len(x.split()))})\n",
    "\n",
    "# Group the documents based on their number of words (i.e. length)\n",
    "grouped = word_length.groupby('doc_length')\n",
    "\n",
    "indices = grouped.indices\n",
    "word_count = []\n",
    "doc_count = []\n",
    "counter = 0\n",
    "for w,d in indices.items():\n",
    "    word_count.append(w)\n",
    "    doc_count.append(len(d))\n",
    "\n",
    "# Plot the distribution of words vs documents in the corpus\n",
    "plt.figure(figsize=(8,5))\n",
    "plt.plot(word_count, doc_count)\n",
    "plt.xlabel('Word count in document')\n",
    "plt.ylabel('Number of Documents')\n",
    "plt.title('Word count vs Number of documents')"
   ]
  },
  {
   "cell_type": "markdown",
   "metadata": {},
   "source": [
    "here we can see that most of the reviews word length between 100 and 200"
   ]
  },
  {
   "cell_type": "code",
   "execution_count": 219,
   "metadata": {},
   "outputs": [],
   "source": [
    "train_data[\"word_length\"]=word_length"
   ]
  },
  {
   "cell_type": "code",
   "execution_count": 220,
   "metadata": {},
   "outputs": [
    {
     "data": {
      "text/html": [
       "<div>\n",
       "<style scoped>\n",
       "    .dataframe tbody tr th:only-of-type {\n",
       "        vertical-align: middle;\n",
       "    }\n",
       "\n",
       "    .dataframe tbody tr th {\n",
       "        vertical-align: top;\n",
       "    }\n",
       "\n",
       "    .dataframe thead th {\n",
       "        text-align: right;\n",
       "    }\n",
       "</style>\n",
       "<table border=\"1\" class=\"dataframe\">\n",
       "  <thead>\n",
       "    <tr style=\"text-align: right;\">\n",
       "      <th></th>\n",
       "      <th>ID</th>\n",
       "      <th>Review</th>\n",
       "      <th>Rating</th>\n",
       "      <th>word_length</th>\n",
       "    </tr>\n",
       "  </thead>\n",
       "  <tbody>\n",
       "    <tr>\n",
       "      <th>8</th>\n",
       "      <td>8</td>\n",
       "      <td>march wonderful relaxing vacation catalonia ma...</td>\n",
       "      <td>4</td>\n",
       "      <td>126</td>\n",
       "    </tr>\n",
       "    <tr>\n",
       "      <th>14</th>\n",
       "      <td>14</td>\n",
       "      <td>beautiful return start kind scared read everyo...</td>\n",
       "      <td>4</td>\n",
       "      <td>240</td>\n",
       "    </tr>\n",
       "    <tr>\n",
       "      <th>17</th>\n",
       "      <td>17</td>\n",
       "      <td>impression maile sky court bit small adequate ...</td>\n",
       "      <td>4</td>\n",
       "      <td>105</td>\n",
       "    </tr>\n",
       "    <tr>\n",
       "      <th>23</th>\n",
       "      <td>23</td>\n",
       "      <td>definately princess boyfriend night barcelona ...</td>\n",
       "      <td>5</td>\n",
       "      <td>176</td>\n",
       "    </tr>\n",
       "    <tr>\n",
       "      <th>34</th>\n",
       "      <td>34</td>\n",
       "      <td>high rise high price night october book intern...</td>\n",
       "      <td>3</td>\n",
       "      <td>104</td>\n",
       "    </tr>\n",
       "    <tr>\n",
       "      <th>...</th>\n",
       "      <td>...</td>\n",
       "      <td>...</td>\n",
       "      <td>...</td>\n",
       "      <td>...</td>\n",
       "    </tr>\n",
       "    <tr>\n",
       "      <th>14326</th>\n",
       "      <td>14326</td>\n",
       "      <td>awesome trip whats checked site everyday left ...</td>\n",
       "      <td>5</td>\n",
       "      <td>118</td>\n",
       "    </tr>\n",
       "    <tr>\n",
       "      <th>14328</th>\n",
       "      <td>14328</td>\n",
       "      <td>star beware smoking room booked package read r...</td>\n",
       "      <td>1</td>\n",
       "      <td>113</td>\n",
       "    </tr>\n",
       "    <tr>\n",
       "      <th>14333</th>\n",
       "      <td>14333</td>\n",
       "      <td>ahead husband sister yr daughter witnessed top...</td>\n",
       "      <td>5</td>\n",
       "      <td>154</td>\n",
       "    </tr>\n",
       "    <tr>\n",
       "      <th>14334</th>\n",
       "      <td>14334</td>\n",
       "      <td>star star location reception pleasant cheerful...</td>\n",
       "      <td>4</td>\n",
       "      <td>145</td>\n",
       "    </tr>\n",
       "    <tr>\n",
       "      <th>14340</th>\n",
       "      <td>14340</td>\n",
       "      <td>place relax vacation book trip paradisus husba...</td>\n",
       "      <td>4</td>\n",
       "      <td>178</td>\n",
       "    </tr>\n",
       "  </tbody>\n",
       "</table>\n",
       "<p>3132 rows × 4 columns</p>\n",
       "</div>"
      ],
      "text/plain": [
       "          ID                                             Review  Rating  \\\n",
       "8          8  march wonderful relaxing vacation catalonia ma...       4   \n",
       "14        14  beautiful return start kind scared read everyo...       4   \n",
       "17        17  impression maile sky court bit small adequate ...       4   \n",
       "23        23  definately princess boyfriend night barcelona ...       5   \n",
       "34        34  high rise high price night october book intern...       3   \n",
       "...      ...                                                ...     ...   \n",
       "14326  14326  awesome trip whats checked site everyday left ...       5   \n",
       "14328  14328  star beware smoking room booked package read r...       1   \n",
       "14333  14333  ahead husband sister yr daughter witnessed top...       5   \n",
       "14334  14334  star star location reception pleasant cheerful...       4   \n",
       "14340  14340  place relax vacation book trip paradisus husba...       4   \n",
       "\n",
       "       word_length  \n",
       "8              126  \n",
       "14             240  \n",
       "17             105  \n",
       "23             176  \n",
       "34             104  \n",
       "...            ...  \n",
       "14326          118  \n",
       "14328          113  \n",
       "14333          154  \n",
       "14334          145  \n",
       "14340          178  \n",
       "\n",
       "[3132 rows x 4 columns]"
      ]
     },
     "execution_count": 220,
     "metadata": {},
     "output_type": "execute_result"
    }
   ],
   "source": [
    "train_data[train_data[\"word_length\"]>100]"
   ]
  },
  {
   "cell_type": "code",
   "execution_count": 221,
   "metadata": {},
   "outputs": [],
   "source": [
    "#Remove the reviews word length>200\n",
    "train_data.drop(train_data[(train_data.word_length > 100)&(train_data.Rating==5)].index, inplace = True)"
   ]
  },
  {
   "cell_type": "code",
   "execution_count": 327,
   "metadata": {},
   "outputs": [
    {
     "data": {
      "text/html": [
       "<div>\n",
       "<style scoped>\n",
       "    .dataframe tbody tr th:only-of-type {\n",
       "        vertical-align: middle;\n",
       "    }\n",
       "\n",
       "    .dataframe tbody tr th {\n",
       "        vertical-align: top;\n",
       "    }\n",
       "\n",
       "    .dataframe thead th {\n",
       "        text-align: right;\n",
       "    }\n",
       "</style>\n",
       "<table border=\"1\" class=\"dataframe\">\n",
       "  <thead>\n",
       "    <tr style=\"text-align: right;\">\n",
       "      <th></th>\n",
       "      <th>ID</th>\n",
       "      <th>Review</th>\n",
       "      <th>Rating</th>\n",
       "    </tr>\n",
       "  </thead>\n",
       "  <tbody>\n",
       "    <tr>\n",
       "      <th>0</th>\n",
       "      <td>0</td>\n",
       "      <td>exceptional service nice daughter priced king ...</td>\n",
       "      <td>5</td>\n",
       "    </tr>\n",
       "    <tr>\n",
       "      <th>1</th>\n",
       "      <td>1</td>\n",
       "      <td>beautiful relaxing jw marriott desert ridge ou...</td>\n",
       "      <td>5</td>\n",
       "    </tr>\n",
       "    <tr>\n",
       "      <th>2</th>\n",
       "      <td>2</td>\n",
       "      <td>location location min subway take blommingdale...</td>\n",
       "      <td>5</td>\n",
       "    </tr>\n",
       "    <tr>\n",
       "      <th>3</th>\n",
       "      <td>3</td>\n",
       "      <td>pleased nice safe flower market vast array res...</td>\n",
       "      <td>3</td>\n",
       "    </tr>\n",
       "    <tr>\n",
       "      <th>4</th>\n",
       "      <td>4</td>\n",
       "      <td>excellent service excellent location couple mi...</td>\n",
       "      <td>4</td>\n",
       "    </tr>\n",
       "    <tr>\n",
       "      <th>...</th>\n",
       "      <td>...</td>\n",
       "      <td>...</td>\n",
       "      <td>...</td>\n",
       "    </tr>\n",
       "    <tr>\n",
       "      <th>14338</th>\n",
       "      <td>14338</td>\n",
       "      <td>madrid perfect location tiny quiet street cent...</td>\n",
       "      <td>5</td>\n",
       "    </tr>\n",
       "    <tr>\n",
       "      <th>14339</th>\n",
       "      <td>14339</td>\n",
       "      <td>excellent florence chosen tripadviser hidden g...</td>\n",
       "      <td>5</td>\n",
       "    </tr>\n",
       "    <tr>\n",
       "      <th>14340</th>\n",
       "      <td>14340</td>\n",
       "      <td>place relax vacation book trip paradisus husba...</td>\n",
       "      <td>4</td>\n",
       "    </tr>\n",
       "    <tr>\n",
       "      <th>14341</th>\n",
       "      <td>14341</td>\n",
       "      <td>week seattle loved minute pacific plaza buy im...</td>\n",
       "      <td>3</td>\n",
       "    </tr>\n",
       "    <tr>\n",
       "      <th>14342</th>\n",
       "      <td>14342</td>\n",
       "      <td>clear internet reservation friday rang hour ad...</td>\n",
       "      <td>1</td>\n",
       "    </tr>\n",
       "  </tbody>\n",
       "</table>\n",
       "<p>14343 rows × 3 columns</p>\n",
       "</div>"
      ],
      "text/plain": [
       "          ID                                             Review  Rating\n",
       "0          0  exceptional service nice daughter priced king ...       5\n",
       "1          1  beautiful relaxing jw marriott desert ridge ou...       5\n",
       "2          2  location location min subway take blommingdale...       5\n",
       "3          3  pleased nice safe flower market vast array res...       3\n",
       "4          4  excellent service excellent location couple mi...       4\n",
       "...      ...                                                ...     ...\n",
       "14338  14338  madrid perfect location tiny quiet street cent...       5\n",
       "14339  14339  excellent florence chosen tripadviser hidden g...       5\n",
       "14340  14340  place relax vacation book trip paradisus husba...       4\n",
       "14341  14341  week seattle loved minute pacific plaza buy im...       3\n",
       "14342  14342  clear internet reservation friday rang hour ad...       1\n",
       "\n",
       "[14343 rows x 3 columns]"
      ]
     },
     "execution_count": 327,
     "metadata": {},
     "output_type": "execute_result"
    }
   ],
   "source": [
    "train_data"
   ]
  },
  {
   "cell_type": "code",
   "execution_count": 328,
   "metadata": {},
   "outputs": [
    {
     "data": {
      "text/html": [
       "<div>\n",
       "<style scoped>\n",
       "    .dataframe tbody tr th:only-of-type {\n",
       "        vertical-align: middle;\n",
       "    }\n",
       "\n",
       "    .dataframe tbody tr th {\n",
       "        vertical-align: top;\n",
       "    }\n",
       "\n",
       "    .dataframe thead th {\n",
       "        text-align: right;\n",
       "    }\n",
       "</style>\n",
       "<table border=\"1\" class=\"dataframe\">\n",
       "  <thead>\n",
       "    <tr style=\"text-align: right;\">\n",
       "      <th></th>\n",
       "      <th>ID</th>\n",
       "      <th>Review</th>\n",
       "    </tr>\n",
       "  </thead>\n",
       "  <tbody>\n",
       "    <tr>\n",
       "      <th>0</th>\n",
       "      <td>0</td>\n",
       "      <td>just superb rendezvous just perfect property s...</td>\n",
       "    </tr>\n",
       "    <tr>\n",
       "      <th>1</th>\n",
       "      <td>1</td>\n",
       "      <td>better close staten island ferry easy subway  ...</td>\n",
       "    </tr>\n",
       "    <tr>\n",
       "      <th>2</th>\n",
       "      <td>2</td>\n",
       "      <td>enjoyed stay  just come long weekend barcelona...</td>\n",
       "    </tr>\n",
       "    <tr>\n",
       "      <th>3</th>\n",
       "      <td>3</td>\n",
       "      <td>muse great  muse hotel great  did n t hear noi...</td>\n",
       "    </tr>\n",
       "    <tr>\n",
       "      <th>4</th>\n",
       "      <td>4</td>\n",
       "      <td>conveniently located morning flight  family st...</td>\n",
       "    </tr>\n",
       "    <tr>\n",
       "      <th>...</th>\n",
       "      <td>...</td>\n",
       "      <td>...</td>\n",
       "    </tr>\n",
       "    <tr>\n",
       "      <th>6143</th>\n",
       "      <td>6143</td>\n",
       "      <td>great hotel precruise great hotel arrived earl...</td>\n",
       "    </tr>\n",
       "    <tr>\n",
       "      <th>6144</th>\n",
       "      <td>6144</td>\n",
       "      <td>great choice just returned nights grand hotel ...</td>\n",
       "    </tr>\n",
       "    <tr>\n",
       "      <th>6145</th>\n",
       "      <td>6145</td>\n",
       "      <td>overpriced tiny rooms kowloon past use date ne...</td>\n",
       "    </tr>\n",
       "    <tr>\n",
       "      <th>6146</th>\n",
       "      <td>6146</td>\n",
       "      <td>ok  agree said positive staff helpful rooms cl...</td>\n",
       "    </tr>\n",
       "    <tr>\n",
       "      <th>6147</th>\n",
       "      <td>6147</td>\n",
       "      <td>great location husband stayed new orleans     ...</td>\n",
       "    </tr>\n",
       "  </tbody>\n",
       "</table>\n",
       "<p>6148 rows × 2 columns</p>\n",
       "</div>"
      ],
      "text/plain": [
       "        ID                                             Review\n",
       "0        0  just superb rendezvous just perfect property s...\n",
       "1        1  better close staten island ferry easy subway  ...\n",
       "2        2  enjoyed stay  just come long weekend barcelona...\n",
       "3        3  muse great  muse hotel great  did n t hear noi...\n",
       "4        4  conveniently located morning flight  family st...\n",
       "...    ...                                                ...\n",
       "6143  6143  great hotel precruise great hotel arrived earl...\n",
       "6144  6144  great choice just returned nights grand hotel ...\n",
       "6145  6145  overpriced tiny rooms kowloon past use date ne...\n",
       "6146  6146  ok  agree said positive staff helpful rooms cl...\n",
       "6147  6147  great location husband stayed new orleans     ...\n",
       "\n",
       "[6148 rows x 2 columns]"
      ]
     },
     "execution_count": 328,
     "metadata": {},
     "output_type": "execute_result"
    }
   ],
   "source": [
    "#read pickle file for test data\n",
    "test_data=pd.read_pickle(\"test_df.pkl\")\n",
    "test_data"
   ]
  },
  {
   "cell_type": "code",
   "execution_count": 329,
   "metadata": {},
   "outputs": [
    {
     "data": {
      "image/png": "[encoded data removed]",
      "text/plain": [
       "<Figure size 432x288 with 1 Axes>"
      ]
     },
     "metadata": {
      "needs_background": "light"
     },
     "output_type": "display_data"
    }
   ],
   "source": [
    "rating_count=train_data.groupby(by='Rating').ID.count()\n",
    "rating_count.plot.bar()\n",
    "plt.show()"
   ]
  },
  {
   "cell_type": "code",
   "execution_count": 226,
   "metadata": {},
   "outputs": [
    {
     "data": {
      "text/plain": [
       "Text(0.5, 1.0, 'Word count vs Number of documents')"
      ]
     },
     "execution_count": 226,
     "metadata": {},
     "output_type": "execute_result"
    },
    {
     "data": {
      "image/png": "[encoded data removed]",
      "text/plain": [
       "<Figure size 576x360 with 1 Axes>"
      ]
     },
     "metadata": {
      "needs_background": "light"
     },
     "output_type": "display_data"
    }
   ],
   "source": [
    "#plot the word length of reviews\n",
    "word_length= pd.DataFrame({'doc_length': train_data.Review.apply(lambda x: len(x.split()))})\n",
    "\n",
    "# Group the documents based on their number of words (i.e. length)\n",
    "grouped = word_length.groupby('doc_length')\n",
    "\n",
    "indices = grouped.indices\n",
    "word_count = []\n",
    "doc_count = []\n",
    "counter = 0\n",
    "for w,d in indices.items():\n",
    "    word_count.append(w)\n",
    "    doc_count.append(len(d))\n",
    "\n",
    "# Plot the distribution of words vs documents in the corpus\n",
    "plt.figure(figsize=(8,5))\n",
    "plt.plot(word_count, doc_count)\n",
    "plt.xlabel('Word count in document')\n",
    "plt.ylabel('Number of Documents')\n",
    "plt.title('Word count vs Number of documents')"
   ]
  },
  {
   "cell_type": "code",
   "execution_count": 330,
   "metadata": {},
   "outputs": [
    {
     "data": {
      "text/plain": [
       "Rating\n",
       "1     977\n",
       "2    1248\n",
       "3    1510\n",
       "4    4172\n",
       "5    6436\n",
       "Name: ID, dtype: int64"
      ]
     },
     "execution_count": 330,
     "metadata": {},
     "output_type": "execute_result"
    }
   ],
   "source": [
    "train_data.groupby(by='Rating').ID.count()"
   ]
  },
  {
   "cell_type": "code",
   "execution_count": 331,
   "metadata": {},
   "outputs": [],
   "source": [
    "#splitting the data for trainung and testing"
   ]
  },
  {
   "cell_type": "code",
   "execution_count": 332,
   "metadata": {},
   "outputs": [],
   "source": [
    "X=train_data['Review']\n",
    "y=train_data['Rating']\n",
    "test_X=test_data[\"Review\"]"
   ]
  },
  {
   "cell_type": "code",
   "execution_count": 333,
   "metadata": {},
   "outputs": [],
   "source": [
    "#split X and y into training and testing sets\n",
    "from sklearn.model_selection import train_test_split\n",
    "X_train, X_test, y_train, y_test = train_test_split(X, y, random_state=1)"
   ]
  },
  {
   "cell_type": "code",
   "execution_count": 334,
   "metadata": {},
   "outputs": [
    {
     "name": "stdout",
     "output_type": "stream",
     "text": [
      "(10757,)\n",
      "(3586,)\n",
      "(10757,)\n",
      "(3586,)\n"
     ]
    }
   ],
   "source": [
    "print(X_train.shape)\n",
    "print(X_test.shape)\n",
    "print(y_train.shape)\n",
    "print(y_test.shape)"
   ]
  },
  {
   "cell_type": "code",
   "execution_count": 335,
   "metadata": {},
   "outputs": [],
   "source": [
    "#pickle stopwords\n",
    "\n",
    "stop= pd.read_pickle('stp_wrds.pkl')"
   ]
  },
  {
   "cell_type": "code",
   "execution_count": 336,
   "metadata": {},
   "outputs": [
    {
     "name": "stderr",
     "output_type": "stream",
     "text": [
      "C:\\Users\\sathi\\Anaconda3\\lib\\site-packages\\sklearn\\utils\\validation.py:70: FutureWarning: Pass classes=[1 2 3 4 5], y=7990     5\n",
      "7911     5\n",
      "9532     2\n",
      "5012     5\n",
      "14288    5\n",
      "        ..\n",
      "905      2\n",
      "5192     5\n",
      "12172    5\n",
      "235      5\n",
      "13349    2\n",
      "Name: Rating, Length: 10757, dtype: int64 as keyword args. From version 0.25 passing these as positional arguments will result in an error\n",
      "  FutureWarning)\n"
     ]
    }
   ],
   "source": [
    "from sklearn.utils import class_weight\n",
    "class_weights = class_weight.compute_class_weight('balanced' ,np.unique(y_train),y_train)"
   ]
  },
  {
   "cell_type": "code",
   "execution_count": 337,
   "metadata": {},
   "outputs": [],
   "source": [
    "class_weights.sort()"
   ]
  },
  {
   "cell_type": "code",
   "execution_count": 338,
   "metadata": {},
   "outputs": [],
   "source": [
    "weights={}\n",
    "\n",
    "for index, weight in enumerate(class_weights) :\n",
    "    weights[index]=weight"
   ]
  },
  {
   "cell_type": "code",
   "execution_count": 339,
   "metadata": {},
   "outputs": [
    {
     "data": {
      "text/plain": [
       "{0: 0.4468120456905504,\n",
       " 1: 0.6825507614213198,\n",
       " 2: 1.915761353517364,\n",
       " 3: 2.3108485499462943,\n",
       " 4: 2.9230978260869565}"
      ]
     },
     "execution_count": 339,
     "metadata": {},
     "output_type": "execute_result"
    }
   ],
   "source": [
    "weights"
   ]
  },
  {
   "cell_type": "code",
   "execution_count": 340,
   "metadata": {},
   "outputs": [],
   "source": [
    "weight={1:0.4468120456905504,\n",
    " 2: 0.6825507614213198,\n",
    " 3: 1.915761353517364,\n",
    " 4: 2.3108485499462943,\n",
    " 5: 2.9230978260869565}"
   ]
  },
  {
   "cell_type": "markdown",
   "metadata": {},
   "source": [
    "# Text Representation.Bag of word approach"
   ]
  },
  {
   "cell_type": "code",
   "execution_count": 247,
   "metadata": {},
   "outputs": [
    {
     "name": "stderr",
     "output_type": "stream",
     "text": [
      "C:\\Users\\sathi\\Anaconda3\\lib\\site-packages\\sklearn\\feature_extraction\\text.py:386: UserWarning: Your stop_words may be inconsistent with your preprocessing. Tokenizing the stop words generated tokens [\"'d\", \"'ll\", \"'m\", \"'re\", \"'s\", \"'ve\", 'ai', 'ca', \"n't\", 'sha', 'wo'] not in stop_words.\n",
      "  'stop_words.' % sorted(inconsistent))\n"
     ]
    }
   ],
   "source": [
    "vect=CountVectorizer(tokenizer=word_tokenize,stop_words=stop, max_df=0.75, lowercase=False, ngram_range=(1,2))\n",
    "# learn training data vocabulary, then use it to create a document-term matrix\n",
    "X_train_dtm = vect.fit_transform(X_train)"
   ]
  },
  {
   "cell_type": "code",
   "execution_count": 248,
   "metadata": {},
   "outputs": [
    {
     "data": {
      "text/plain": [
       "<3284x430784 sparse matrix of type '<class 'numpy.int64'>'\n",
       "\twith 289175 stored elements in Compressed Sparse Row format>"
      ]
     },
     "execution_count": 248,
     "metadata": {},
     "output_type": "execute_result"
    }
   ],
   "source": [
    "# transform testing data (using fitted vocabulary) into a document-term matrix\n",
    "X_test_dtm = vect.transform(X_test)\n",
    "X_test_dtm"
   ]
  },
  {
   "cell_type": "code",
   "execution_count": null,
   "metadata": {},
   "outputs": [],
   "source": []
  },
  {
   "cell_type": "markdown",
   "metadata": {},
   "source": [
    "# Model building"
   ]
  },
  {
   "cell_type": "markdown",
   "metadata": {},
   "source": [
    "We will use the following four models:\n",
    "\n",
    "Logistic Regression\n",
    "\n",
    "(Multinomial) Naive Bayes\n",
    "\n",
    "Linear Support Vector Machine\n",
    "\n",
    "Xgboost\n",
    "\n",
    "SGD classifier"
   ]
  },
  {
   "cell_type": "code",
   "execution_count": 376,
   "metadata": {},
   "outputs": [],
   "source": [
    "def NB_Classifier_result(X, y,X_test,y_test):\n",
    "    NB = MultinomialNB()\n",
    "    NB.fit(X, y)\n",
    "    prediction = NB.predict(X_test)\n",
    "    print(classification_report(prediction, y_test))\n",
    "    print(metrics.accuracy_score(y_test,prediction))\n",
    "    print(\"NB Classifier result:\")\n",
    "    return \n"
   ]
  },
  {
   "cell_type": "code",
   "execution_count": 377,
   "metadata": {},
   "outputs": [],
   "source": [
    "def LG_Classifier_result(X, y,X_test,y_test):\n",
    "    LG = LogisticRegression()\n",
    "    LG.fit(X,y)\n",
    "    prediction = LG.predict(X_test)\n",
    "    print(classification_report(prediction, y_test))\n",
    "    print(metrics.accuracy_score(y_test,prediction))\n",
    "    print(\" LG Classifier result:\")\n",
    "     \n",
    "    return"
   ]
  },
  {
   "cell_type": "code",
   "execution_count": 378,
   "metadata": {},
   "outputs": [],
   "source": [
    "def SVM_Classifier_result(X, y,X_test,y_test):\n",
    "    SVM = LinearSVC()\n",
    "    SVM.fit(X,y)\n",
    "    prediction = SVM.predict(X_test)\n",
    "    print(classification_report(prediction, y_test))\n",
    "    print(metrics.accuracy_score(y_test,prediction))\n",
    "    print(\" SVM Classifier result:\")\n",
    "    return "
   ]
  },
  {
   "cell_type": "code",
   "execution_count": 379,
   "metadata": {},
   "outputs": [],
   "source": [
    "def XG_Classifier_result(X, y,X_test,y_test):\n",
    "    XGB = XGBClassifier(objective='multi:softmax', n_estimators=100, learning_rate=0.3, max_depth=4, subsample=0.8, n_iter_no_change=2, verbosity=1)\n",
    "    XGB.fit(X,y)\n",
    "    prediction = XGB.predict(X_test)\n",
    "    print(classification_report(prediction, y_test))\n",
    "    print(metrics.accuracy_score(y_test,prediction))\n",
    "    print(\" XGB Classifier result:\")\n",
    "    return "
   ]
  },
  {
   "cell_type": "code",
   "execution_count": 380,
   "metadata": {},
   "outputs": [],
   "source": [
    "def SGD_Classifier_result(X, y,X_test,y_test):\n",
    "    SGD = SGDClassifier(max_iter=1000, tol=0.01)\n",
    "    SGD.fit(X,y)\n",
    "    prediction = SGD.predict(X_test)\n",
    "    print(classification_report(prediction, y_test))\n",
    "    print(metrics.accuracy_score(y_test,prediction))\n",
    "    print(\" SGD Classifier result:\")\n",
    "    return "
   ]
  },
  {
   "cell_type": "code",
   "execution_count": 381,
   "metadata": {},
   "outputs": [],
   "source": [
    "\n",
    "def RF_Classifier_result(X, y,X_test,y_test):\n",
    "    RF = RandomForestClassifier(n_estimators=100, max_depth=100, min_samples_split=10, n_jobs=-1, verbose=0)\n",
    "    RF.fit(X,y)\n",
    "    prediction = RF.predict(X_test)\n",
    "    print(classification_report(prediction, y_test))\n",
    "    print(metrics.accuracy_score(y_test,prediction))\n",
    "    print(\" RF Classifier result:\")\n",
    "    return"
   ]
  },
  {
   "cell_type": "markdown",
   "metadata": {},
   "source": [
    "# Random Oversampling Imbalanced Datasets"
   ]
  },
  {
   "cell_type": "markdown",
   "metadata": {},
   "source": [
    "How to improve the performance?\n",
    "\n",
    "Re-sampling Dataset\n",
    "\n",
    "To make our dataset balanced there are two ways to do so:\n",
    "\n",
    "Under-sampling: Remove samples from over-represented classes ; use this if you have huge dataset\n",
    "\n",
    "Over-sampling: Add more samples from under-represented classes; use this if you have small dataset\n",
    " \n"
   ]
  },
  {
   "cell_type": "markdown",
   "metadata": {},
   "source": [
    "Random oversampling involves randomly duplicating examples from the minority class and adding them to the training dataset."
   ]
  },
  {
   "cell_type": "markdown",
   "metadata": {},
   "source": [
    "RandomOverSampler\n",
    "\n",
    "SMOTE\n",
    "\n"
   ]
  },
  {
   "cell_type": "code",
   "execution_count": 98,
   "metadata": {},
   "outputs": [
    {
     "name": "stdout",
     "output_type": "stream",
     "text": [
      "(13013, 5000) (13013,)\n"
     ]
    },
    {
     "name": "stderr",
     "output_type": "stream",
     "text": [
      "C:\\Users\\sathi\\Anaconda3\\lib\\site-packages\\imblearn\\utils\\_validation.py:638: FutureWarning: Pass sampling_strategy=minority as keyword args. From version 0.9 passing these as positional arguments will result in an error\n",
      "  FutureWarning)\n"
     ]
    }
   ],
   "source": [
    "#smote\n",
    "from imblearn.over_sampling import SMOTE\n",
    "smote = SMOTE('minority')\n",
    "\n",
    "X_sm, y_sm = smote.fit_sample(X_train_dtm, y_train)\n",
    "print(X_sm.shape, y_sm.shape)"
   ]
  },
  {
   "cell_type": "code",
   "execution_count": 99,
   "metadata": {},
   "outputs": [
    {
     "name": "stdout",
     "output_type": "stream",
     "text": [
      "(19500, 5000) (19500,)\n"
     ]
    }
   ],
   "source": [
    "#Random oversampler\n",
    "from imblearn.over_sampling import RandomOverSampler\n",
    "\n",
    "ros = RandomOverSampler()\n",
    "X_ros, y_ros = ros.fit_sample(X_train_dtm, y_train)\n",
    "print(X_ros.shape, y_ros.shape)"
   ]
  },
  {
   "cell_type": "code",
   "execution_count": 100,
   "metadata": {},
   "outputs": [
    {
     "name": "stdout",
     "output_type": "stream",
     "text": [
      "(3690, 5000) (3690,)\n"
     ]
    }
   ],
   "source": [
    "#RandomUnderSampler\n",
    "from imblearn.under_sampling import RandomUnderSampler\n",
    "\n",
    "rus = RandomUnderSampler()\n",
    "X_rus, y_rus= rus.fit_sample(X_train_dtm, y_train)\n",
    "print(X_rus.shape, y_rus.shape)"
   ]
  },
  {
   "cell_type": "code",
   "execution_count": 101,
   "metadata": {},
   "outputs": [
    {
     "name": "stderr",
     "output_type": "stream",
     "text": [
      "C:\\Users\\sathi\\Anaconda3\\lib\\site-packages\\imblearn\\utils\\_validation.py:638: FutureWarning: Pass sampling_strategy=majority as keyword args. From version 0.9 passing these as positional arguments will result in an error\n",
      "  FutureWarning)\n"
     ]
    }
   ],
   "source": [
    "#TomekLinks\n",
    "from imblearn.under_sampling import TomekLinks\n",
    "\n",
    "tl = TomekLinks('majority')\n",
    "X_tl, y_tl = tl.fit_sample(X_train_dtm, y_train)"
   ]
  },
  {
   "cell_type": "code",
   "execution_count": 102,
   "metadata": {},
   "outputs": [],
   "source": [
    "#ClusterCentroids\n",
    "from imblearn.under_sampling import ClusterCentroids\n",
    "\n",
    "cc = ClusterCentroids()\n",
    "X_cc, y_cc = cc.fit_sample(X_train_dtm, y_train)"
   ]
  },
  {
   "cell_type": "code",
   "execution_count": 103,
   "metadata": {},
   "outputs": [
    {
     "name": "stderr",
     "output_type": "stream",
     "text": [
      "C:\\Users\\sathi\\Anaconda3\\lib\\site-packages\\imblearn\\utils\\_validation.py:638: FutureWarning: Pass sampling_strategy=auto as keyword args. From version 0.9 passing these as positional arguments will result in an error\n",
      "  FutureWarning)\n"
     ]
    }
   ],
   "source": [
    "#SMOTETomek\n",
    "from imblearn.combine import SMOTETomek\n",
    "\n",
    "smt = SMOTETomek('auto')\n",
    "X_smt, y_smt = smt.fit_sample(X_train_dtm, y_train)"
   ]
  },
  {
   "cell_type": "markdown",
   "metadata": {},
   "source": [
    "# Pasing imbalanced data(bow)"
   ]
  },
  {
   "cell_type": "code",
   "execution_count": 163,
   "metadata": {},
   "outputs": [
    {
     "name": "stdout",
     "output_type": "stream",
     "text": [
      "NB Classifier result:\n",
      "              precision    recall  f1-score   support\n",
      "\n",
      "           1       0.64      0.52      0.57       291\n",
      "           2       0.34      0.33      0.34       330\n",
      "           3       0.28      0.36      0.31       285\n",
      "           4       0.38      0.54      0.44       719\n",
      "           5       0.81      0.65      0.72      1659\n",
      "\n",
      "    accuracy                           0.56      3284\n",
      "   macro avg       0.49      0.48      0.48      3284\n",
      "weighted avg       0.61      0.56      0.57      3284\n",
      "\n",
      "0.5578562728380024\n",
      "(0.5578562728380024, '              precision    recall  f1-score   support\\n\\n           1       0.64      0.52      0.57       291\\n           2       0.34      0.33      0.34       330\\n           3       0.28      0.36      0.31       285\\n           4       0.38      0.54      0.44       719\\n           5       0.81      0.65      0.72      1659\\n\\n    accuracy                           0.56      3284\\n   macro avg       0.49      0.48      0.48      3284\\nweighted avg       0.61      0.56      0.57      3284\\n')\n"
     ]
    },
    {
     "name": "stderr",
     "output_type": "stream",
     "text": [
      "C:\\Users\\sathi\\Anaconda3\\lib\\site-packages\\sklearn\\linear_model\\_logistic.py:764: ConvergenceWarning: lbfgs failed to converge (status=1):\n",
      "STOP: TOTAL NO. of ITERATIONS REACHED LIMIT.\n",
      "\n",
      "Increase the number of iterations (max_iter) or scale the data as shown in:\n",
      "    https://scikit-learn.org/stable/modules/preprocessing.html\n",
      "Please also refer to the documentation for alternative solver options:\n",
      "    https://scikit-learn.org/stable/modules/linear_model.html#logistic-regression\n",
      "  extra_warning_msg=_LOGISTIC_SOLVER_CONVERGENCE_MSG)\n"
     ]
    },
    {
     "name": "stdout",
     "output_type": "stream",
     "text": [
      " LG Classifier result:\n",
      "              precision    recall  f1-score   support\n",
      "\n",
      "           1       0.54      0.57      0.56       227\n",
      "           2       0.31      0.35      0.33       284\n",
      "           3       0.31      0.32      0.32       354\n",
      "           4       0.50      0.51      0.50      1005\n",
      "           5       0.73      0.69      0.71      1414\n",
      "\n",
      "    accuracy                           0.56      3284\n",
      "   macro avg       0.48      0.49      0.48      3284\n",
      "weighted avg       0.57      0.56      0.56      3284\n",
      "\n",
      "0.5572472594397077\n",
      "(0.5572472594397077, '              precision    recall  f1-score   support\\n\\n           1       0.54      0.57      0.56       227\\n           2       0.31      0.35      0.33       284\\n           3       0.31      0.32      0.32       354\\n           4       0.50      0.51      0.50      1005\\n           5       0.73      0.69      0.71      1414\\n\\n    accuracy                           0.56      3284\\n   macro avg       0.48      0.49      0.48      3284\\nweighted avg       0.57      0.56      0.56      3284\\n')\n"
     ]
    },
    {
     "name": "stderr",
     "output_type": "stream",
     "text": [
      "C:\\Users\\sathi\\Anaconda3\\lib\\site-packages\\sklearn\\svm\\_base.py:977: ConvergenceWarning: Liblinear failed to converge, increase the number of iterations.\n",
      "  \"the number of iterations.\", ConvergenceWarning)\n"
     ]
    },
    {
     "name": "stdout",
     "output_type": "stream",
     "text": [
      " SVM Classifier result:\n",
      "              precision    recall  f1-score   support\n",
      "\n",
      "           1       0.42      0.49      0.45       204\n",
      "           2       0.26      0.29      0.28       282\n",
      "           3       0.28      0.27      0.27       371\n",
      "           4       0.46      0.45      0.45      1047\n",
      "           5       0.68      0.66      0.67      1380\n",
      "\n",
      "    accuracy                           0.51      3284\n",
      "   macro avg       0.42      0.43      0.43      3284\n",
      "weighted avg       0.51      0.51      0.51      3284\n",
      "\n",
      "0.5060901339829477\n",
      "(0.5060901339829477, '              precision    recall  f1-score   support\\n\\n           1       0.42      0.49      0.45       204\\n           2       0.26      0.29      0.28       282\\n           3       0.28      0.27      0.27       371\\n           4       0.46      0.45      0.45      1047\\n           5       0.68      0.66      0.67      1380\\n\\n    accuracy                           0.51      3284\\n   macro avg       0.42      0.43      0.43      3284\\nweighted avg       0.51      0.51      0.51      3284\\n')\n",
      " XGB Classifier result:\n",
      "              precision    recall  f1-score   support\n",
      "\n",
      "           1       0.52      0.60      0.56       209\n",
      "           2       0.28      0.42      0.34       209\n",
      "           3       0.16      0.39      0.23       153\n",
      "           4       0.54      0.51      0.52      1098\n",
      "           5       0.81      0.67      0.73      1615\n",
      "\n",
      "    accuracy                           0.58      3284\n",
      "   macro avg       0.46      0.52      0.48      3284\n",
      "weighted avg       0.64      0.58      0.60      3284\n",
      "\n",
      "0.580694275274056\n",
      "(0.580694275274056, '              precision    recall  f1-score   support\\n\\n           1       0.52      0.60      0.56       209\\n           2       0.28      0.42      0.34       209\\n           3       0.16      0.39      0.23       153\\n           4       0.54      0.51      0.52      1098\\n           5       0.81      0.67      0.73      1615\\n\\n    accuracy                           0.58      3284\\n   macro avg       0.46      0.52      0.48      3284\\nweighted avg       0.64      0.58      0.60      3284\\n')\n",
      " SGD Classifier result:\n",
      "              precision    recall  f1-score   support\n",
      "\n",
      "           1       0.53      0.53      0.53       240\n",
      "           2       0.23      0.36      0.28       205\n",
      "           3       0.26      0.28      0.27       343\n",
      "           4       0.48      0.50      0.49       996\n",
      "           5       0.74      0.65      0.69      1500\n",
      "\n",
      "    accuracy                           0.54      3284\n",
      "   macro avg       0.45      0.46      0.45      3284\n",
      "weighted avg       0.56      0.54      0.55      3284\n",
      "\n",
      "0.5386723507917174\n",
      "(0.5386723507917174, '              precision    recall  f1-score   support\\n\\n           1       0.53      0.53      0.53       240\\n           2       0.23      0.36      0.28       205\\n           3       0.26      0.28      0.27       343\\n           4       0.48      0.50      0.49       996\\n           5       0.74      0.65      0.69      1500\\n\\n    accuracy                           0.54      3284\\n   macro avg       0.45      0.46      0.45      3284\\nweighted avg       0.56      0.54      0.55      3284\\n')\n",
      " RF Classifier result:\n",
      "              precision    recall  f1-score   support\n",
      "\n",
      "           1       0.46      0.63      0.53       174\n",
      "           2       0.04      0.39      0.06        28\n",
      "           3       0.00      0.20      0.01         5\n",
      "           4       0.52      0.45      0.48      1186\n",
      "           5       0.87      0.61      0.72      1891\n",
      "\n",
      "    accuracy                           0.55      3284\n",
      "   macro avg       0.38      0.46      0.36      3284\n",
      "weighted avg       0.71      0.55      0.62      3284\n",
      "\n",
      "0.5535931790499391\n",
      "(0.5535931790499391, '              precision    recall  f1-score   support\\n\\n           1       0.46      0.63      0.53       174\\n           2       0.04      0.39      0.06        28\\n           3       0.00      0.20      0.01         5\\n           4       0.52      0.45      0.48      1186\\n           5       0.87      0.61      0.72      1891\\n\\n    accuracy                           0.55      3284\\n   macro avg       0.38      0.46      0.36      3284\\nweighted avg       0.71      0.55      0.62      3284\\n')\n"
     ]
    }
   ],
   "source": [
    "print(NB_Classifier_result(X_train_dtm, y_train,X_test_dtm,y_test))\n",
    "print(LG_Classifier_result(X_train_dtm, y_train,X_test_dtm,y_test))\n",
    "print(SVM_Classifier_result(X_train_dtm, y_train,X_test_dtm,y_test))\n",
    "print(XG_Classifier_result(X_train_dtm, y_train,X_test_dtm,y_test))\n",
    "print(SGD_Classifier_result(X_train_dtm, y_train,X_test_dtm,y_test))\n",
    "print(RF_Classifier_result(X_train_dtm, y_train,X_test_dtm,y_test))"
   ]
  },
  {
   "cell_type": "code",
   "execution_count": null,
   "metadata": {},
   "outputs": [],
   "source": []
  },
  {
   "cell_type": "markdown",
   "metadata": {},
   "source": [
    "# Building and evaluating a model using balanced data"
   ]
  },
  {
   "cell_type": "markdown",
   "metadata": {},
   "source": [
    "# Passing SMOTE"
   ]
  },
  {
   "cell_type": "code",
   "execution_count": 164,
   "metadata": {},
   "outputs": [
    {
     "name": "stdout",
     "output_type": "stream",
     "text": [
      "NB Classifier result:\n",
      "              precision    recall  f1-score   support\n",
      "\n",
      "           1       0.60      0.53      0.57       270\n",
      "           2       0.37      0.33      0.35       353\n",
      "           3       0.28      0.36      0.31       285\n",
      "           4       0.38      0.54      0.44       717\n",
      "           5       0.81      0.65      0.72      1659\n",
      "\n",
      "    accuracy                           0.56      3284\n",
      "   macro avg       0.49      0.48      0.48      3284\n",
      "weighted avg       0.61      0.56      0.57      3284\n",
      "\n",
      "0.5584652862362972\n",
      "(0.5584652862362972, '              precision    recall  f1-score   support\\n\\n           1       0.60      0.53      0.57       270\\n           2       0.37      0.33      0.35       353\\n           3       0.28      0.36      0.31       285\\n           4       0.38      0.54      0.44       717\\n           5       0.81      0.65      0.72      1659\\n\\n    accuracy                           0.56      3284\\n   macro avg       0.49      0.48      0.48      3284\\nweighted avg       0.61      0.56      0.57      3284\\n')\n"
     ]
    },
    {
     "name": "stderr",
     "output_type": "stream",
     "text": [
      "C:\\Users\\sathi\\Anaconda3\\lib\\site-packages\\sklearn\\linear_model\\_logistic.py:764: ConvergenceWarning: lbfgs failed to converge (status=1):\n",
      "STOP: TOTAL NO. of ITERATIONS REACHED LIMIT.\n",
      "\n",
      "Increase the number of iterations (max_iter) or scale the data as shown in:\n",
      "    https://scikit-learn.org/stable/modules/preprocessing.html\n",
      "Please also refer to the documentation for alternative solver options:\n",
      "    https://scikit-learn.org/stable/modules/linear_model.html#logistic-regression\n",
      "  extra_warning_msg=_LOGISTIC_SOLVER_CONVERGENCE_MSG)\n"
     ]
    },
    {
     "name": "stdout",
     "output_type": "stream",
     "text": [
      " LG Classifier result:\n",
      "              precision    recall  f1-score   support\n",
      "\n",
      "           1       0.58      0.45      0.50       309\n",
      "           2       0.32      0.37      0.35       277\n",
      "           3       0.31      0.33      0.32       342\n",
      "           4       0.49      0.52      0.51       988\n",
      "           5       0.72      0.70      0.71      1368\n",
      "\n",
      "    accuracy                           0.55      3284\n",
      "   macro avg       0.48      0.47      0.48      3284\n",
      "weighted avg       0.56      0.55      0.56      3284\n",
      "\n",
      "0.5532886723507917\n",
      "(0.5532886723507917, '              precision    recall  f1-score   support\\n\\n           1       0.58      0.45      0.50       309\\n           2       0.32      0.37      0.35       277\\n           3       0.31      0.33      0.32       342\\n           4       0.49      0.52      0.51       988\\n           5       0.72      0.70      0.71      1368\\n\\n    accuracy                           0.55      3284\\n   macro avg       0.48      0.47      0.48      3284\\nweighted avg       0.56      0.55      0.56      3284\\n')\n"
     ]
    },
    {
     "name": "stderr",
     "output_type": "stream",
     "text": [
      "C:\\Users\\sathi\\Anaconda3\\lib\\site-packages\\sklearn\\svm\\_base.py:977: ConvergenceWarning: Liblinear failed to converge, increase the number of iterations.\n",
      "  \"the number of iterations.\", ConvergenceWarning)\n"
     ]
    },
    {
     "name": "stdout",
     "output_type": "stream",
     "text": [
      " SVM Classifier result:\n",
      "              precision    recall  f1-score   support\n",
      "\n",
      "           1       0.55      0.46      0.50       287\n",
      "           2       0.25      0.29      0.27       266\n",
      "           3       0.29      0.30      0.30       355\n",
      "           4       0.45      0.46      0.46      1010\n",
      "           5       0.68      0.66      0.67      1366\n",
      "\n",
      "    accuracy                           0.51      3284\n",
      "   macro avg       0.44      0.43      0.44      3284\n",
      "weighted avg       0.52      0.51      0.52      3284\n",
      "\n",
      "0.5121802679658952\n",
      "(0.5121802679658952, '              precision    recall  f1-score   support\\n\\n           1       0.55      0.46      0.50       287\\n           2       0.25      0.29      0.27       266\\n           3       0.29      0.30      0.30       355\\n           4       0.45      0.46      0.46      1010\\n           5       0.68      0.66      0.67      1366\\n\\n    accuracy                           0.51      3284\\n   macro avg       0.44      0.43      0.44      3284\\nweighted avg       0.52      0.51      0.52      3284\\n')\n",
      " XGB Classifier result:\n",
      "              precision    recall  f1-score   support\n",
      "\n",
      "           1       0.53      0.60      0.56       213\n",
      "           2       0.26      0.41      0.32       196\n",
      "           3       0.17      0.36      0.23       169\n",
      "           4       0.53      0.51      0.52      1070\n",
      "           5       0.82      0.66      0.73      1636\n",
      "\n",
      "    accuracy                           0.58      3284\n",
      "   macro avg       0.46      0.51      0.47      3284\n",
      "weighted avg       0.64      0.58      0.60      3284\n",
      "\n",
      "0.5779537149817296\n",
      "(0.5779537149817296, '              precision    recall  f1-score   support\\n\\n           1       0.53      0.60      0.56       213\\n           2       0.26      0.41      0.32       196\\n           3       0.17      0.36      0.23       169\\n           4       0.53      0.51      0.52      1070\\n           5       0.82      0.66      0.73      1636\\n\\n    accuracy                           0.58      3284\\n   macro avg       0.46      0.51      0.47      3284\\nweighted avg       0.64      0.58      0.60      3284\\n')\n",
      " SGD Classifier result:\n",
      "              precision    recall  f1-score   support\n",
      "\n",
      "           1       0.54      0.40      0.45       324\n",
      "           2       0.30      0.33      0.31       281\n",
      "           3       0.21      0.30      0.25       260\n",
      "           4       0.47      0.52      0.49       949\n",
      "           5       0.72      0.65      0.68      1470\n",
      "\n",
      "    accuracy                           0.53      3284\n",
      "   macro avg       0.45      0.44      0.44      3284\n",
      "weighted avg       0.55      0.53      0.54      3284\n",
      "\n",
      "0.5313641900121803\n",
      "(0.5313641900121803, '              precision    recall  f1-score   support\\n\\n           1       0.54      0.40      0.45       324\\n           2       0.30      0.33      0.31       281\\n           3       0.21      0.30      0.25       260\\n           4       0.47      0.52      0.49       949\\n           5       0.72      0.65      0.68      1470\\n\\n    accuracy                           0.53      3284\\n   macro avg       0.45      0.44      0.44      3284\\nweighted avg       0.55      0.53      0.54      3284\\n')\n",
      " RF Classifier result:\n",
      "              precision    recall  f1-score   support\n",
      "\n",
      "           1       0.57      0.44      0.50       310\n",
      "           2       0.00      0.00      0.00         1\n",
      "           3       0.00      1.00      0.01         1\n",
      "           4       0.46      0.48      0.47       977\n",
      "           5       0.89      0.59      0.71      1995\n",
      "\n",
      "    accuracy                           0.55      3284\n",
      "   macro avg       0.38      0.50      0.34      3284\n",
      "weighted avg       0.73      0.55      0.62      3284\n",
      "\n",
      "0.5453714981729598\n",
      "(0.5453714981729598, '              precision    recall  f1-score   support\\n\\n           1       0.57      0.44      0.50       310\\n           2       0.00      0.00      0.00         1\\n           3       0.00      1.00      0.01         1\\n           4       0.46      0.48      0.47       977\\n           5       0.89      0.59      0.71      1995\\n\\n    accuracy                           0.55      3284\\n   macro avg       0.38      0.50      0.34      3284\\nweighted avg       0.73      0.55      0.62      3284\\n')\n"
     ]
    }
   ],
   "source": [
    "print(NB_Classifier_result(X_sm, y_sm,X_test_dtm,y_test))\n",
    "print(LG_Classifier_result(X_sm, y_sm,X_test_dtm,y_test))\n",
    "print(SVM_Classifier_result(X_sm, y_sm,X_test_dtm,y_test))\n",
    "print(XG_Classifier_result(X_sm, y_sm,X_test_dtm,y_test))\n",
    "print(SGD_Classifier_result(X_sm, y_sm,X_test_dtm,y_test))\n",
    "print(RF_Classifier_result(X_sm, y_sm,X_test_dtm,y_test))"
   ]
  },
  {
   "cell_type": "markdown",
   "metadata": {},
   "source": [
    "# Passing Random over sampler"
   ]
  },
  {
   "cell_type": "code",
   "execution_count": 165,
   "metadata": {},
   "outputs": [
    {
     "name": "stdout",
     "output_type": "stream",
     "text": [
      "NB Classifier result:\n",
      "              precision    recall  f1-score   support\n",
      "\n",
      "           1       0.59      0.52      0.55       270\n",
      "           2       0.38      0.33      0.35       368\n",
      "           3       0.34      0.35      0.34       353\n",
      "           4       0.36      0.55      0.43       671\n",
      "           5       0.81      0.66      0.73      1622\n",
      "\n",
      "    accuracy                           0.56      3284\n",
      "   macro avg       0.49      0.48      0.48      3284\n",
      "weighted avg       0.60      0.56      0.57      3284\n",
      "\n",
      "0.5566382460414129\n",
      "(0.5566382460414129, '              precision    recall  f1-score   support\\n\\n           1       0.59      0.52      0.55       270\\n           2       0.38      0.33      0.35       368\\n           3       0.34      0.35      0.34       353\\n           4       0.36      0.55      0.43       671\\n           5       0.81      0.66      0.73      1622\\n\\n    accuracy                           0.56      3284\\n   macro avg       0.49      0.48      0.48      3284\\nweighted avg       0.60      0.56      0.57      3284\\n')\n"
     ]
    },
    {
     "name": "stderr",
     "output_type": "stream",
     "text": [
      "C:\\Users\\sathi\\Anaconda3\\lib\\site-packages\\sklearn\\linear_model\\_logistic.py:764: ConvergenceWarning: lbfgs failed to converge (status=1):\n",
      "STOP: TOTAL NO. of ITERATIONS REACHED LIMIT.\n",
      "\n",
      "Increase the number of iterations (max_iter) or scale the data as shown in:\n",
      "    https://scikit-learn.org/stable/modules/preprocessing.html\n",
      "Please also refer to the documentation for alternative solver options:\n",
      "    https://scikit-learn.org/stable/modules/linear_model.html#logistic-regression\n",
      "  extra_warning_msg=_LOGISTIC_SOLVER_CONVERGENCE_MSG)\n"
     ]
    },
    {
     "name": "stdout",
     "output_type": "stream",
     "text": [
      " LG Classifier result:\n",
      "              precision    recall  f1-score   support\n",
      "\n",
      "           1       0.58      0.57      0.57       244\n",
      "           2       0.34      0.34      0.34       321\n",
      "           3       0.35      0.30      0.32       417\n",
      "           4       0.47      0.51      0.49       959\n",
      "           5       0.71      0.70      0.71      1343\n",
      "\n",
      "    accuracy                           0.55      3284\n",
      "   macro avg       0.49      0.48      0.49      3284\n",
      "weighted avg       0.55      0.55      0.55      3284\n",
      "\n",
      "0.5493300852618758\n",
      "(0.5493300852618758, '              precision    recall  f1-score   support\\n\\n           1       0.58      0.57      0.57       244\\n           2       0.34      0.34      0.34       321\\n           3       0.35      0.30      0.32       417\\n           4       0.47      0.51      0.49       959\\n           5       0.71      0.70      0.71      1343\\n\\n    accuracy                           0.55      3284\\n   macro avg       0.49      0.48      0.49      3284\\nweighted avg       0.55      0.55      0.55      3284\\n')\n"
     ]
    },
    {
     "name": "stderr",
     "output_type": "stream",
     "text": [
      "C:\\Users\\sathi\\Anaconda3\\lib\\site-packages\\sklearn\\svm\\_base.py:977: ConvergenceWarning: Liblinear failed to converge, increase the number of iterations.\n",
      "  \"the number of iterations.\", ConvergenceWarning)\n"
     ]
    },
    {
     "name": "stdout",
     "output_type": "stream",
     "text": [
      " SVM Classifier result:\n",
      "              precision    recall  f1-score   support\n",
      "\n",
      "           1       0.42      0.49      0.45       205\n",
      "           2       0.28      0.30      0.29       294\n",
      "           3       0.30      0.27      0.28       396\n",
      "           4       0.44      0.45      0.45      1014\n",
      "           5       0.68      0.66      0.67      1375\n",
      "\n",
      "    accuracy                           0.51      3284\n",
      "   macro avg       0.42      0.43      0.43      3284\n",
      "weighted avg       0.51      0.51      0.51      3284\n",
      "\n",
      "0.5054811205846529\n",
      "(0.5054811205846529, '              precision    recall  f1-score   support\\n\\n           1       0.42      0.49      0.45       205\\n           2       0.28      0.30      0.29       294\\n           3       0.30      0.27      0.28       396\\n           4       0.44      0.45      0.45      1014\\n           5       0.68      0.66      0.67      1375\\n\\n    accuracy                           0.51      3284\\n   macro avg       0.42      0.43      0.43      3284\\nweighted avg       0.51      0.51      0.51      3284\\n')\n",
      " XGB Classifier result:\n",
      "              precision    recall  f1-score   support\n",
      "\n",
      "           1       0.63      0.48      0.54       316\n",
      "           2       0.34      0.35      0.35       304\n",
      "           3       0.33      0.31      0.32       383\n",
      "           4       0.48      0.56      0.52       886\n",
      "           5       0.75      0.71      0.73      1395\n",
      "\n",
      "    accuracy                           0.57      3284\n",
      "   macro avg       0.50      0.48      0.49      3284\n",
      "weighted avg       0.58      0.57      0.57      3284\n",
      "\n",
      "0.567904993909866\n",
      "(0.567904993909866, '              precision    recall  f1-score   support\\n\\n           1       0.63      0.48      0.54       316\\n           2       0.34      0.35      0.35       304\\n           3       0.33      0.31      0.32       383\\n           4       0.48      0.56      0.52       886\\n           5       0.75      0.71      0.73      1395\\n\\n    accuracy                           0.57      3284\\n   macro avg       0.50      0.48      0.49      3284\\nweighted avg       0.58      0.57      0.57      3284\\n')\n",
      " SGD Classifier result:\n",
      "              precision    recall  f1-score   support\n",
      "\n",
      "           1       0.56      0.51      0.53       260\n",
      "           2       0.30      0.31      0.30       310\n",
      "           3       0.31      0.28      0.29       407\n",
      "           4       0.39      0.51      0.44       794\n",
      "           5       0.75      0.66      0.70      1513\n",
      "\n",
      "    accuracy                           0.53      3284\n",
      "   macro avg       0.46      0.45      0.45      3284\n",
      "weighted avg       0.55      0.53      0.54      3284\n",
      "\n",
      "0.5292326431181485\n",
      "(0.5292326431181485, '              precision    recall  f1-score   support\\n\\n           1       0.56      0.51      0.53       260\\n           2       0.30      0.31      0.30       310\\n           3       0.31      0.28      0.29       407\\n           4       0.39      0.51      0.44       794\\n           5       0.75      0.66      0.70      1513\\n\\n    accuracy                           0.53      3284\\n   macro avg       0.46      0.45      0.45      3284\\nweighted avg       0.55      0.53      0.54      3284\\n')\n",
      " RF Classifier result:\n",
      "              precision    recall  f1-score   support\n",
      "\n",
      "           1       0.71      0.54      0.61       315\n",
      "           2       0.19      0.43      0.26       137\n",
      "           3       0.15      0.46      0.23       123\n",
      "           4       0.47      0.54      0.50       905\n",
      "           5       0.86      0.63      0.73      1804\n",
      "\n",
      "    accuracy                           0.58      3284\n",
      "   macro avg       0.48      0.52      0.47      3284\n",
      "weighted avg       0.68      0.58      0.62      3284\n",
      "\n",
      "0.5828258221680876\n",
      "(0.5828258221680876, '              precision    recall  f1-score   support\\n\\n           1       0.71      0.54      0.61       315\\n           2       0.19      0.43      0.26       137\\n           3       0.15      0.46      0.23       123\\n           4       0.47      0.54      0.50       905\\n           5       0.86      0.63      0.73      1804\\n\\n    accuracy                           0.58      3284\\n   macro avg       0.48      0.52      0.47      3284\\nweighted avg       0.68      0.58      0.62      3284\\n')\n"
     ]
    }
   ],
   "source": [
    "print(NB_Classifier_result(X_ros, y_ros,X_test_dtm,y_test))\n",
    "print(LG_Classifier_result(X_ros, y_ros,X_test_dtm,y_test))\n",
    "print(SVM_Classifier_result(X_ros, y_ros,X_test_dtm,y_test))\n",
    "print(XG_Classifier_result(X_ros, y_ros,X_test_dtm,y_test))\n",
    "print(SGD_Classifier_result(X_ros, y_ros,X_test_dtm,y_test))\n",
    "print(RF_Classifier_result(X_ros, y_ros,X_test_dtm,y_test))"
   ]
  },
  {
   "cell_type": "markdown",
   "metadata": {},
   "source": [
    "# passing Random under sampler"
   ]
  },
  {
   "cell_type": "code",
   "execution_count": 167,
   "metadata": {},
   "outputs": [
    {
     "name": "stdout",
     "output_type": "stream",
     "text": [
      "NB Classifier result:\n",
      "              precision    recall  f1-score   support\n",
      "\n",
      "           1       0.68      0.50      0.58       327\n",
      "           2       0.35      0.29      0.32       370\n",
      "           3       0.37      0.29      0.32       468\n",
      "           4       0.30      0.51      0.38       614\n",
      "           5       0.75      0.66      0.70      1505\n",
      "\n",
      "    accuracy                           0.52      3284\n",
      "   macro avg       0.49      0.45      0.46      3284\n",
      "weighted avg       0.56      0.52      0.53      3284\n",
      "\n",
      "0.5225334957369062\n",
      "(0.5225334957369062, '              precision    recall  f1-score   support\\n\\n           1       0.68      0.50      0.58       327\\n           2       0.35      0.29      0.32       370\\n           3       0.37      0.29      0.32       468\\n           4       0.30      0.51      0.38       614\\n           5       0.75      0.66      0.70      1505\\n\\n    accuracy                           0.52      3284\\n   macro avg       0.49      0.45      0.46      3284\\nweighted avg       0.56      0.52      0.53      3284\\n')\n"
     ]
    },
    {
     "name": "stderr",
     "output_type": "stream",
     "text": [
      "C:\\Users\\sathi\\Anaconda3\\lib\\site-packages\\sklearn\\linear_model\\_logistic.py:764: ConvergenceWarning: lbfgs failed to converge (status=1):\n",
      "STOP: TOTAL NO. of ITERATIONS REACHED LIMIT.\n",
      "\n",
      "Increase the number of iterations (max_iter) or scale the data as shown in:\n",
      "    https://scikit-learn.org/stable/modules/preprocessing.html\n",
      "Please also refer to the documentation for alternative solver options:\n",
      "    https://scikit-learn.org/stable/modules/linear_model.html#logistic-regression\n",
      "  extra_warning_msg=_LOGISTIC_SOLVER_CONVERGENCE_MSG)\n"
     ]
    },
    {
     "name": "stdout",
     "output_type": "stream",
     "text": [
      " LG Classifier result:\n",
      "              precision    recall  f1-score   support\n",
      "\n",
      "           1       0.62      0.51      0.56       293\n",
      "           2       0.36      0.30      0.33       371\n",
      "           3       0.39      0.27      0.32       538\n",
      "           4       0.43      0.51      0.47       868\n",
      "           5       0.66      0.72      0.69      1214\n",
      "\n",
      "    accuracy                           0.53      3284\n",
      "   macro avg       0.49      0.46      0.47      3284\n",
      "weighted avg       0.52      0.53      0.52      3284\n",
      "\n",
      "0.52557856272838\n",
      "(0.52557856272838, '              precision    recall  f1-score   support\\n\\n           1       0.62      0.51      0.56       293\\n           2       0.36      0.30      0.33       371\\n           3       0.39      0.27      0.32       538\\n           4       0.43      0.51      0.47       868\\n           5       0.66      0.72      0.69      1214\\n\\n    accuracy                           0.53      3284\\n   macro avg       0.49      0.46      0.47      3284\\nweighted avg       0.52      0.53      0.52      3284\\n')\n",
      " SVM Classifier result:\n",
      "              precision    recall  f1-score   support\n",
      "\n",
      "           1       0.57      0.46      0.51       298\n",
      "           2       0.32      0.27      0.30       371\n",
      "           3       0.37      0.25      0.30       554\n",
      "           4       0.40      0.47      0.43       879\n",
      "           5       0.61      0.68      0.64      1182\n",
      "\n",
      "    accuracy                           0.49      3284\n",
      "   macro avg       0.46      0.43      0.44      3284\n",
      "weighted avg       0.48      0.49      0.48      3284\n",
      "\n",
      "0.48629719853836784\n",
      "(0.48629719853836784, '              precision    recall  f1-score   support\\n\\n           1       0.57      0.46      0.51       298\\n           2       0.32      0.27      0.30       371\\n           3       0.37      0.25      0.30       554\\n           4       0.40      0.47      0.43       879\\n           5       0.61      0.68      0.64      1182\\n\\n    accuracy                           0.49      3284\\n   macro avg       0.46      0.43      0.44      3284\\nweighted avg       0.48      0.49      0.48      3284\\n')\n",
      " XGB Classifier result:\n",
      "              precision    recall  f1-score   support\n",
      "\n",
      "           1       0.68      0.48      0.56       335\n",
      "           2       0.41      0.34      0.37       383\n",
      "           3       0.39      0.27      0.32       528\n",
      "           4       0.38      0.51      0.44       787\n",
      "           5       0.68      0.72      0.70      1251\n",
      "\n",
      "    accuracy                           0.53      3284\n",
      "   macro avg       0.51      0.46      0.48      3284\n",
      "weighted avg       0.53      0.53      0.52      3284\n",
      "\n",
      "0.5274056029232643\n",
      "(0.5274056029232643, '              precision    recall  f1-score   support\\n\\n           1       0.68      0.48      0.56       335\\n           2       0.41      0.34      0.37       383\\n           3       0.39      0.27      0.32       528\\n           4       0.38      0.51      0.44       787\\n           5       0.68      0.72      0.70      1251\\n\\n    accuracy                           0.53      3284\\n   macro avg       0.51      0.46      0.48      3284\\nweighted avg       0.53      0.53      0.52      3284\\n')\n",
      " SGD Classifier result:\n",
      "              precision    recall  f1-score   support\n",
      "\n",
      "           1       0.55      0.51      0.53       258\n",
      "           2       0.33      0.27      0.30       386\n",
      "           3       0.40      0.23      0.29       629\n",
      "           4       0.40      0.46      0.43       905\n",
      "           5       0.59      0.71      0.65      1106\n",
      "\n",
      "    accuracy                           0.48      3284\n",
      "   macro avg       0.45      0.44      0.44      3284\n",
      "weighted avg       0.47      0.48      0.47      3284\n",
      "\n",
      "0.4826431181485993\n",
      "(0.4826431181485993, '              precision    recall  f1-score   support\\n\\n           1       0.55      0.51      0.53       258\\n           2       0.33      0.27      0.30       386\\n           3       0.40      0.23      0.29       629\\n           4       0.40      0.46      0.43       905\\n           5       0.59      0.71      0.65      1106\\n\\n    accuracy                           0.48      3284\\n   macro avg       0.45      0.44      0.44      3284\\nweighted avg       0.47      0.48      0.47      3284\\n')\n",
      " RF Classifier result:\n",
      "              precision    recall  f1-score   support\n",
      "\n",
      "           1       0.80      0.41      0.54       465\n",
      "           2       0.23      0.29      0.25       247\n",
      "           3       0.35      0.28      0.32       453\n",
      "           4       0.30      0.55      0.39       566\n",
      "           5       0.78      0.66      0.72      1553\n",
      "\n",
      "    accuracy                           0.53      3284\n",
      "   macro avg       0.49      0.44      0.44      3284\n",
      "weighted avg       0.60      0.53      0.55      3284\n",
      "\n",
      "0.5289281364190013\n",
      "(0.5289281364190013, '              precision    recall  f1-score   support\\n\\n           1       0.80      0.41      0.54       465\\n           2       0.23      0.29      0.25       247\\n           3       0.35      0.28      0.32       453\\n           4       0.30      0.55      0.39       566\\n           5       0.78      0.66      0.72      1553\\n\\n    accuracy                           0.53      3284\\n   macro avg       0.49      0.44      0.44      3284\\nweighted avg       0.60      0.53      0.55      3284\\n')\n"
     ]
    }
   ],
   "source": [
    "print(NB_Classifier_result(X_rus, y_rus,X_test_dtm,y_test))\n",
    "print(LG_Classifier_result(X_rus, y_rus,X_test_dtm,y_test))\n",
    "print(SVM_Classifier_result(X_rus, y_rus,X_test_dtm,y_test))\n",
    "print(XG_Classifier_result(X_rus, y_rus,X_test_dtm,y_test))\n",
    "print(SGD_Classifier_result(X_rus, y_rus,X_test_dtm,y_test))\n",
    "print(RF_Classifier_result(X_rus, y_rus,X_test_dtm,y_test))"
   ]
  },
  {
   "cell_type": "markdown",
   "metadata": {},
   "source": [
    "# TomekLinks\n"
   ]
  },
  {
   "cell_type": "code",
   "execution_count": 169,
   "metadata": {},
   "outputs": [
    {
     "name": "stdout",
     "output_type": "stream",
     "text": [
      "NB Classifier result:\n",
      "              precision    recall  f1-score   support\n",
      "\n",
      "           1       0.64      0.52      0.57       291\n",
      "           2       0.34      0.33      0.34       330\n",
      "           3       0.28      0.36      0.31       285\n",
      "           4       0.38      0.54      0.44       720\n",
      "           5       0.81      0.65      0.72      1658\n",
      "\n",
      "    accuracy                           0.56      3284\n",
      "   macro avg       0.49      0.48      0.48      3284\n",
      "weighted avg       0.61      0.56      0.57      3284\n",
      "\n",
      "0.557551766138855\n",
      "(0.557551766138855, '              precision    recall  f1-score   support\\n\\n           1       0.64      0.52      0.57       291\\n           2       0.34      0.33      0.34       330\\n           3       0.28      0.36      0.31       285\\n           4       0.38      0.54      0.44       720\\n           5       0.81      0.65      0.72      1658\\n\\n    accuracy                           0.56      3284\\n   macro avg       0.49      0.48      0.48      3284\\nweighted avg       0.61      0.56      0.57      3284\\n')\n"
     ]
    },
    {
     "name": "stderr",
     "output_type": "stream",
     "text": [
      "C:\\Users\\sathi\\Anaconda3\\lib\\site-packages\\sklearn\\linear_model\\_logistic.py:764: ConvergenceWarning: lbfgs failed to converge (status=1):\n",
      "STOP: TOTAL NO. of ITERATIONS REACHED LIMIT.\n",
      "\n",
      "Increase the number of iterations (max_iter) or scale the data as shown in:\n",
      "    https://scikit-learn.org/stable/modules/preprocessing.html\n",
      "Please also refer to the documentation for alternative solver options:\n",
      "    https://scikit-learn.org/stable/modules/linear_model.html#logistic-regression\n",
      "  extra_warning_msg=_LOGISTIC_SOLVER_CONVERGENCE_MSG)\n"
     ]
    },
    {
     "name": "stdout",
     "output_type": "stream",
     "text": [
      " LG Classifier result:\n",
      "              precision    recall  f1-score   support\n",
      "\n",
      "           1       0.54      0.57      0.56       229\n",
      "           2       0.31      0.35      0.32       278\n",
      "           3       0.31      0.32      0.32       354\n",
      "           4       0.50      0.51      0.50      1020\n",
      "           5       0.73      0.69      0.71      1403\n",
      "\n",
      "    accuracy                           0.56      3284\n",
      "   macro avg       0.48      0.49      0.48      3284\n",
      "weighted avg       0.56      0.56      0.56      3284\n",
      "\n",
      "0.5554202192448234\n",
      "(0.5554202192448234, '              precision    recall  f1-score   support\\n\\n           1       0.54      0.57      0.56       229\\n           2       0.31      0.35      0.32       278\\n           3       0.31      0.32      0.32       354\\n           4       0.50      0.51      0.50      1020\\n           5       0.73      0.69      0.71      1403\\n\\n    accuracy                           0.56      3284\\n   macro avg       0.48      0.49      0.48      3284\\nweighted avg       0.56      0.56      0.56      3284\\n')\n"
     ]
    },
    {
     "name": "stderr",
     "output_type": "stream",
     "text": [
      "C:\\Users\\sathi\\Anaconda3\\lib\\site-packages\\sklearn\\svm\\_base.py:977: ConvergenceWarning: Liblinear failed to converge, increase the number of iterations.\n",
      "  \"the number of iterations.\", ConvergenceWarning)\n"
     ]
    },
    {
     "name": "stdout",
     "output_type": "stream",
     "text": [
      " SVM Classifier result:\n",
      "              precision    recall  f1-score   support\n",
      "\n",
      "           1       0.43      0.49      0.46       207\n",
      "           2       0.26      0.30      0.28       275\n",
      "           3       0.28      0.27      0.27       371\n",
      "           4       0.46      0.45      0.46      1047\n",
      "           5       0.68      0.66      0.67      1384\n",
      "\n",
      "    accuracy                           0.51      3284\n",
      "   macro avg       0.42      0.44      0.43      3284\n",
      "weighted avg       0.51      0.51      0.51      3284\n",
      "\n",
      "0.5079171741778319\n",
      "(0.5079171741778319, '              precision    recall  f1-score   support\\n\\n           1       0.43      0.49      0.46       207\\n           2       0.26      0.30      0.28       275\\n           3       0.28      0.27      0.27       371\\n           4       0.46      0.45      0.46      1047\\n           5       0.68      0.66      0.67      1384\\n\\n    accuracy                           0.51      3284\\n   macro avg       0.42      0.44      0.43      3284\\nweighted avg       0.51      0.51      0.51      3284\\n')\n",
      " XGB Classifier result:\n",
      "              precision    recall  f1-score   support\n",
      "\n",
      "           1       0.53      0.64      0.58       200\n",
      "           2       0.29      0.43      0.35       213\n",
      "           3       0.16      0.36      0.22       159\n",
      "           4       0.54      0.52      0.53      1081\n",
      "           5       0.81      0.66      0.73      1631\n",
      "\n",
      "    accuracy                           0.59      3284\n",
      "   macro avg       0.47      0.52      0.48      3284\n",
      "weighted avg       0.64      0.59      0.61      3284\n",
      "\n",
      "0.5852618757612668\n",
      "(0.5852618757612668, '              precision    recall  f1-score   support\\n\\n           1       0.53      0.64      0.58       200\\n           2       0.29      0.43      0.35       213\\n           3       0.16      0.36      0.22       159\\n           4       0.54      0.52      0.53      1081\\n           5       0.81      0.66      0.73      1631\\n\\n    accuracy                           0.59      3284\\n   macro avg       0.47      0.52      0.48      3284\\nweighted avg       0.64      0.59      0.61      3284\\n')\n",
      " SGD Classifier result:\n",
      "              precision    recall  f1-score   support\n",
      "\n",
      "           1       0.49      0.56      0.53       209\n",
      "           2       0.24      0.32      0.28       237\n",
      "           3       0.27      0.28      0.27       359\n",
      "           4       0.47      0.49      0.48       993\n",
      "           5       0.72      0.64      0.68      1486\n",
      "\n",
      "    accuracy                           0.53      3284\n",
      "   macro avg       0.44      0.46      0.45      3284\n",
      "weighted avg       0.54      0.53      0.53      3284\n",
      "\n",
      "0.5261875761266748\n",
      "(0.5261875761266748, '              precision    recall  f1-score   support\\n\\n           1       0.49      0.56      0.53       209\\n           2       0.24      0.32      0.28       237\\n           3       0.27      0.28      0.27       359\\n           4       0.47      0.49      0.48       993\\n           5       0.72      0.64      0.68      1486\\n\\n    accuracy                           0.53      3284\\n   macro avg       0.44      0.46      0.45      3284\\nweighted avg       0.54      0.53      0.53      3284\\n')\n",
      " RF Classifier result:\n",
      "              precision    recall  f1-score   support\n",
      "\n",
      "           1       0.46      0.67      0.55       166\n",
      "           2       0.04      0.48      0.08        29\n",
      "           3       0.00      0.17      0.01         6\n",
      "           4       0.53      0.46      0.49      1198\n",
      "           5       0.88      0.62      0.73      1885\n",
      "\n",
      "    accuracy                           0.56      3284\n",
      "   macro avg       0.38      0.48      0.37      3284\n",
      "weighted avg       0.72      0.56      0.62      3284\n",
      "\n",
      "0.5596833130328868\n",
      "(0.5596833130328868, '              precision    recall  f1-score   support\\n\\n           1       0.46      0.67      0.55       166\\n           2       0.04      0.48      0.08        29\\n           3       0.00      0.17      0.01         6\\n           4       0.53      0.46      0.49      1198\\n           5       0.88      0.62      0.73      1885\\n\\n    accuracy                           0.56      3284\\n   macro avg       0.38      0.48      0.37      3284\\nweighted avg       0.72      0.56      0.62      3284\\n')\n"
     ]
    }
   ],
   "source": [
    "print(NB_Classifier_result(X_tl,y_tl,X_test_dtm,y_test))\n",
    "print(LG_Classifier_result(X_tl,y_tl,X_test_dtm,y_test))\n",
    "print(SVM_Classifier_result(X_tl,y_tl,X_test_dtm,y_test))\n",
    "print(XG_Classifier_result(X_tl,y_tl,X_test_dtm,y_test))\n",
    "print(SGD_Classifier_result(X_tl,y_tl,X_test_dtm,y_test))\n",
    "print(RF_Classifier_result(X_tl,y_tl,X_test_dtm,y_test))"
   ]
  },
  {
   "cell_type": "markdown",
   "metadata": {},
   "source": [
    "# SMOTETomek\n"
   ]
  },
  {
   "cell_type": "code",
   "execution_count": 198,
   "metadata": {},
   "outputs": [
    {
     "name": "stdout",
     "output_type": "stream",
     "text": [
      "NB Classifier result:\n",
      "              precision    recall  f1-score   support\n",
      "\n",
      "           1       0.61      0.55      0.58       265\n",
      "           2       0.39      0.35      0.37       350\n",
      "           3       0.31      0.36      0.33       321\n",
      "           4       0.37      0.54      0.44       722\n",
      "           5       0.81      0.66      0.73      1626\n",
      "\n",
      "    accuracy                           0.56      3284\n",
      "   macro avg       0.50      0.49      0.49      3284\n",
      "weighted avg       0.60      0.56      0.57      3284\n",
      "\n",
      "0.5605968331303288\n",
      "(0.5605968331303288, '              precision    recall  f1-score   support\\n\\n           1       0.61      0.55      0.58       265\\n           2       0.39      0.35      0.37       350\\n           3       0.31      0.36      0.33       321\\n           4       0.37      0.54      0.44       722\\n           5       0.81      0.66      0.73      1626\\n\\n    accuracy                           0.56      3284\\n   macro avg       0.50      0.49      0.49      3284\\nweighted avg       0.60      0.56      0.57      3284\\n')\n"
     ]
    },
    {
     "name": "stderr",
     "output_type": "stream",
     "text": [
      "C:\\Users\\sathi\\Anaconda3\\lib\\site-packages\\sklearn\\linear_model\\_logistic.py:764: ConvergenceWarning: lbfgs failed to converge (status=1):\n",
      "STOP: TOTAL NO. of ITERATIONS REACHED LIMIT.\n",
      "\n",
      "Increase the number of iterations (max_iter) or scale the data as shown in:\n",
      "    https://scikit-learn.org/stable/modules/preprocessing.html\n",
      "Please also refer to the documentation for alternative solver options:\n",
      "    https://scikit-learn.org/stable/modules/linear_model.html#logistic-regression\n",
      "  extra_warning_msg=_LOGISTIC_SOLVER_CONVERGENCE_MSG)\n"
     ]
    },
    {
     "name": "stdout",
     "output_type": "stream",
     "text": [
      " LG Classifier result:\n",
      "              precision    recall  f1-score   support\n",
      "\n",
      "           1       0.59      0.55      0.57       258\n",
      "           2       0.33      0.32      0.33       331\n",
      "           3       0.33      0.30      0.31       397\n",
      "           4       0.49      0.50      0.49      1006\n",
      "           5       0.68      0.70      0.69      1292\n",
      "\n",
      "    accuracy                           0.54      3284\n",
      "   macro avg       0.48      0.47      0.48      3284\n",
      "weighted avg       0.54      0.54      0.54      3284\n",
      "\n",
      "0.5414129110840439\n",
      "(0.5414129110840439, '              precision    recall  f1-score   support\\n\\n           1       0.59      0.55      0.57       258\\n           2       0.33      0.32      0.33       331\\n           3       0.33      0.30      0.31       397\\n           4       0.49      0.50      0.49      1006\\n           5       0.68      0.70      0.69      1292\\n\\n    accuracy                           0.54      3284\\n   macro avg       0.48      0.47      0.48      3284\\nweighted avg       0.54      0.54      0.54      3284\\n')\n"
     ]
    },
    {
     "name": "stderr",
     "output_type": "stream",
     "text": [
      "C:\\Users\\sathi\\Anaconda3\\lib\\site-packages\\sklearn\\svm\\_base.py:977: ConvergenceWarning: Liblinear failed to converge, increase the number of iterations.\n",
      "  \"the number of iterations.\", ConvergenceWarning)\n"
     ]
    },
    {
     "name": "stdout",
     "output_type": "stream",
     "text": [
      " SVM Classifier result:\n",
      "              precision    recall  f1-score   support\n",
      "\n",
      "           1       0.51      0.51      0.51       242\n",
      "           2       0.27      0.26      0.27       321\n",
      "           3       0.30      0.25      0.28       440\n",
      "           4       0.44      0.46      0.45       986\n",
      "           5       0.65      0.67      0.66      1295\n",
      "\n",
      "    accuracy                           0.50      3284\n",
      "   macro avg       0.44      0.43      0.43      3284\n",
      "weighted avg       0.49      0.50      0.50      3284\n",
      "\n",
      "0.4993909866017052\n",
      "(0.4993909866017052, '              precision    recall  f1-score   support\\n\\n           1       0.51      0.51      0.51       242\\n           2       0.27      0.26      0.27       321\\n           3       0.30      0.25      0.28       440\\n           4       0.44      0.46      0.45       986\\n           5       0.65      0.67      0.66      1295\\n\\n    accuracy                           0.50      3284\\n   macro avg       0.44      0.43      0.43      3284\\nweighted avg       0.49      0.50      0.50      3284\\n')\n",
      " XGB Classifier result:\n",
      "              precision    recall  f1-score   support\n",
      "\n",
      "           1       0.54      0.60      0.57       214\n",
      "           2       0.27      0.40      0.32       210\n",
      "           3       0.14      0.36      0.21       148\n",
      "           4       0.55      0.51      0.53      1104\n",
      "           5       0.81      0.67      0.73      1608\n",
      "\n",
      "    accuracy                           0.58      3284\n",
      "   macro avg       0.46      0.51      0.47      3284\n",
      "weighted avg       0.64      0.58      0.60      3284\n",
      "\n",
      "0.5809987819732034\n",
      "(0.5809987819732034, '              precision    recall  f1-score   support\\n\\n           1       0.54      0.60      0.57       214\\n           2       0.27      0.40      0.32       210\\n           3       0.14      0.36      0.21       148\\n           4       0.55      0.51      0.53      1104\\n           5       0.81      0.67      0.73      1608\\n\\n    accuracy                           0.58      3284\\n   macro avg       0.46      0.51      0.47      3284\\nweighted avg       0.64      0.58      0.60      3284\\n')\n",
      " SGD Classifier result:\n",
      "              precision    recall  f1-score   support\n",
      "\n",
      "           1       0.54      0.51      0.52       250\n",
      "           2       0.32      0.29      0.30       349\n",
      "           3       0.34      0.30      0.32       419\n",
      "           4       0.45      0.51      0.48       910\n",
      "           5       0.70      0.68      0.69      1356\n",
      "\n",
      "    accuracy                           0.53      3284\n",
      "   macro avg       0.47      0.46      0.46      3284\n",
      "weighted avg       0.53      0.53      0.53      3284\n",
      "\n",
      "0.5304506699147381\n",
      "(0.5304506699147381, '              precision    recall  f1-score   support\\n\\n           1       0.54      0.51      0.52       250\\n           2       0.32      0.29      0.30       349\\n           3       0.34      0.30      0.32       419\\n           4       0.45      0.51      0.48       910\\n           5       0.70      0.68      0.69      1356\\n\\n    accuracy                           0.53      3284\\n   macro avg       0.47      0.46      0.46      3284\\nweighted avg       0.53      0.53      0.53      3284\\n')\n",
      " RF Classifier result:\n",
      "              precision    recall  f1-score   support\n",
      "\n",
      "           1       0.49      0.56      0.52       206\n",
      "           2       0.17      0.34      0.23       161\n",
      "           3       0.13      0.32      0.18       146\n",
      "           4       0.52      0.48      0.50      1114\n",
      "           5       0.81      0.65      0.72      1657\n",
      "\n",
      "    accuracy                           0.56      3284\n",
      "   macro avg       0.42      0.47      0.43      3284\n",
      "weighted avg       0.63      0.56      0.58      3284\n",
      "\n",
      "0.5566382460414129\n",
      "(0.5566382460414129, '              precision    recall  f1-score   support\\n\\n           1       0.49      0.56      0.52       206\\n           2       0.17      0.34      0.23       161\\n           3       0.13      0.32      0.18       146\\n           4       0.52      0.48      0.50      1114\\n           5       0.81      0.65      0.72      1657\\n\\n    accuracy                           0.56      3284\\n   macro avg       0.42      0.47      0.43      3284\\nweighted avg       0.63      0.56      0.58      3284\\n')\n"
     ]
    }
   ],
   "source": [
    "print(NB_Classifier_result(X_smt,y_smt,X_test_dtm,y_test))\n",
    "print(LG_Classifier_result(X_smt,y_smt,X_test_dtm,y_test))\n",
    "print(SVM_Classifier_result(X_smt,y_smt,X_test_dtm,y_test))\n",
    "print(XG_Classifier_result(X_smt,y_smt,X_test_dtm,y_test))\n",
    "print(SGD_Classifier_result(X_smt,y_smt,X_test_dtm,y_test))\n",
    "print(RF_Classifier_result(X_smt,y_smt,X_test_dtm,y_test))"
   ]
  },
  {
   "cell_type": "code",
   "execution_count": null,
   "metadata": {},
   "outputs": [],
   "source": []
  },
  {
   "cell_type": "markdown",
   "metadata": {},
   "source": [
    "# TF-IDF approach"
   ]
  },
  {
   "cell_type": "code",
   "execution_count": 350,
   "metadata": {},
   "outputs": [],
   "source": [
    "vectorizer = TfidfVectorizer(tokenizer=word_tokenize,stop_words=stop, lowercase=False, ngram_range=(1,2))"
   ]
  },
  {
   "cell_type": "code",
   "execution_count": 351,
   "metadata": {},
   "outputs": [
    {
     "name": "stderr",
     "output_type": "stream",
     "text": [
      "C:\\Users\\sathi\\Anaconda3\\lib\\site-packages\\sklearn\\feature_extraction\\text.py:386: UserWarning: Your stop_words may be inconsistent with your preprocessing. Tokenizing the stop words generated tokens [\"'d\", \"'ll\", \"'m\", \"'re\", \"'s\", \"'ve\", 'ai', 'ca', \"n't\", 'sha', 'wo'] not in stop_words.\n",
      "  'stop_words.' % sorted(inconsistent))\n"
     ]
    }
   ],
   "source": [
    "#transforming test data and train data in to a document term matrix\n",
    "X_Train_Dtm=vectorizer.fit_transform(X_train)\n",
    "X_Test_Dtm=vectorizer.transform(X_test)"
   ]
  },
  {
   "cell_type": "code",
   "execution_count": 352,
   "metadata": {},
   "outputs": [
    {
     "data": {
      "text/plain": [
       "((10757, 515625), (10757,), (3586, 515625), (3586,))"
      ]
     },
     "execution_count": 352,
     "metadata": {},
     "output_type": "execute_result"
    }
   ],
   "source": [
    "X_Train_Dtm.shape, y_train.shape,X_Test_Dtm.shape, y_test.shape"
   ]
  },
  {
   "cell_type": "code",
   "execution_count": null,
   "metadata": {},
   "outputs": [],
   "source": []
  },
  {
   "cell_type": "markdown",
   "metadata": {},
   "source": [
    "# Build a model : Passing imbalanced data"
   ]
  },
  {
   "cell_type": "code",
   "execution_count": 370,
   "metadata": {},
   "outputs": [
    {
     "name": "stderr",
     "output_type": "stream",
     "text": [
      "C:\\Users\\sathi\\Anaconda3\\lib\\site-packages\\sklearn\\metrics\\_classification.py:1221: UndefinedMetricWarning: Recall and F-score are ill-defined and being set to 0.0 in labels with no true samples. Use `zero_division` parameter to control this behavior.\n",
      "  _warn_prf(average, modifier, msg_start, len(result))\n"
     ]
    },
    {
     "name": "stdout",
     "output_type": "stream",
     "text": [
      "              precision    recall  f1-score   support\n",
      "\n",
      "           1       0.00      0.00      0.00         0\n",
      "           2       0.00      0.00      0.00         0\n",
      "           3       0.00      0.00      0.00         0\n",
      "           4       0.00      0.00      0.00         0\n",
      "           5       1.00      0.45      0.62      3586\n",
      "\n",
      "    accuracy                           0.45      3586\n",
      "   macro avg       0.20      0.09      0.12      3586\n",
      "weighted avg       1.00      0.45      0.62      3586\n",
      "\n",
      "0.4520356943669827\n",
      "NB Classifier result:\n",
      "None\n"
     ]
    },
    {
     "name": "stderr",
     "output_type": "stream",
     "text": [
      "C:\\Users\\sathi\\Anaconda3\\lib\\site-packages\\sklearn\\linear_model\\_logistic.py:764: ConvergenceWarning: lbfgs failed to converge (status=1):\n",
      "STOP: TOTAL NO. of ITERATIONS REACHED LIMIT.\n",
      "\n",
      "Increase the number of iterations (max_iter) or scale the data as shown in:\n",
      "    https://scikit-learn.org/stable/modules/preprocessing.html\n",
      "Please also refer to the documentation for alternative solver options:\n",
      "    https://scikit-learn.org/stable/modules/linear_model.html#logistic-regression\n",
      "  extra_warning_msg=_LOGISTIC_SOLVER_CONVERGENCE_MSG)\n"
     ]
    },
    {
     "name": "stdout",
     "output_type": "stream",
     "text": [
      "              precision    recall  f1-score   support\n",
      "\n",
      "           1       0.46      0.76      0.57       144\n",
      "           2       0.17      0.40      0.24       135\n",
      "           3       0.06      0.34      0.10        65\n",
      "           4       0.49      0.43      0.46      1166\n",
      "           5       0.86      0.67      0.75      2076\n",
      "\n",
      "    accuracy                           0.58      3586\n",
      "   macro avg       0.41      0.52      0.42      3586\n",
      "weighted avg       0.68      0.58      0.62      3586\n",
      "\n",
      "0.5786391522587842\n",
      " LG Classifier result:\n",
      "None\n",
      "              precision    recall  f1-score   support\n",
      "\n",
      "           1       0.59      0.59      0.59       242\n",
      "           2       0.23      0.42      0.29       172\n",
      "           3       0.16      0.39      0.22       155\n",
      "           4       0.50      0.47      0.49      1085\n",
      "           5       0.83      0.69      0.75      1932\n",
      "\n",
      "    accuracy                           0.59      3586\n",
      "   macro avg       0.46      0.51      0.47      3586\n",
      "weighted avg       0.65      0.59      0.62      3586\n",
      "\n",
      "0.5925822643614055\n",
      " SVM Classifier result:\n",
      "None\n",
      "              precision    recall  f1-score   support\n",
      "\n",
      "           1       0.52      0.63      0.57       198\n",
      "           2       0.22      0.40      0.28       177\n",
      "           3       0.24      0.41      0.30       230\n",
      "           4       0.50      0.45      0.47      1155\n",
      "           5       0.78      0.69      0.73      1826\n",
      "\n",
      "    accuracy                           0.57      3586\n",
      "   macro avg       0.45      0.51      0.47      3586\n",
      "weighted avg       0.61      0.57      0.59      3586\n",
      "\n",
      "0.5747350808700502\n",
      " XGB Classifier result:\n",
      "None\n",
      "              precision    recall  f1-score   support\n",
      "\n",
      "           1       0.70      0.59      0.64       285\n",
      "           2       0.17      0.45      0.25       122\n",
      "           3       0.13      0.42      0.20       121\n",
      "           4       0.43      0.46      0.44       951\n",
      "           5       0.87      0.67      0.76      2107\n",
      "\n",
      "    accuracy                           0.59      3586\n",
      "   macro avg       0.46      0.52      0.46      3586\n",
      "weighted avg       0.69      0.59      0.63      3586\n",
      "\n",
      "0.5914668153931958\n",
      " SGD Classifier result:\n",
      "None\n",
      "              precision    recall  f1-score   support\n",
      "\n",
      "           1       0.11      0.84      0.20        32\n",
      "           2       0.00      0.00      0.00         4\n",
      "           3       0.00      0.00      0.00         0\n",
      "           4       0.11      0.35      0.17       326\n",
      "           5       0.98      0.49      0.65      3224\n",
      "\n",
      "    accuracy                           0.48      3586\n",
      "   macro avg       0.24      0.34      0.20      3586\n",
      "weighted avg       0.89      0.48      0.60      3586\n",
      "\n",
      "0.4807585052983826\n",
      " RF Classifier result:\n"
     ]
    },
    {
     "name": "stderr",
     "output_type": "stream",
     "text": [
      "C:\\Users\\sathi\\Anaconda3\\lib\\site-packages\\sklearn\\metrics\\_classification.py:1221: UndefinedMetricWarning: Recall and F-score are ill-defined and being set to 0.0 in labels with no true samples. Use `zero_division` parameter to control this behavior.\n",
      "  _warn_prf(average, modifier, msg_start, len(result))\n"
     ]
    },
    {
     "ename": "NameError",
     "evalue": "name 'report' is not defined",
     "output_type": "error",
     "traceback": [
      "\u001b[1;31m---------------------------------------------------------------------------\u001b[0m",
      "\u001b[1;31mNameError\u001b[0m                                 Traceback (most recent call last)",
      "\u001b[1;32m<ipython-input-370-0618859b0aab>\u001b[0m in \u001b[0;36m<module>\u001b[1;34m\u001b[0m\n\u001b[0;32m      4\u001b[0m \u001b[0mprint\u001b[0m\u001b[1;33m(\u001b[0m\u001b[0mXG_Classifier_result\u001b[0m\u001b[1;33m(\u001b[0m\u001b[0mX_Train_Dtm\u001b[0m\u001b[1;33m,\u001b[0m \u001b[0my_train\u001b[0m\u001b[1;33m,\u001b[0m\u001b[0mX_Test_Dtm\u001b[0m\u001b[1;33m,\u001b[0m\u001b[0my_test\u001b[0m\u001b[1;33m)\u001b[0m\u001b[1;33m)\u001b[0m\u001b[1;33m\u001b[0m\u001b[1;33m\u001b[0m\u001b[0m\n\u001b[0;32m      5\u001b[0m \u001b[0mprint\u001b[0m\u001b[1;33m(\u001b[0m\u001b[0mSGD_Classifier_result\u001b[0m\u001b[1;33m(\u001b[0m\u001b[0mX_Train_Dtm\u001b[0m\u001b[1;33m,\u001b[0m \u001b[0my_train\u001b[0m\u001b[1;33m,\u001b[0m\u001b[0mX_Test_Dtm\u001b[0m\u001b[1;33m,\u001b[0m\u001b[0my_test\u001b[0m\u001b[1;33m)\u001b[0m\u001b[1;33m)\u001b[0m\u001b[1;33m\u001b[0m\u001b[1;33m\u001b[0m\u001b[0m\n\u001b[1;32m----> 6\u001b[1;33m \u001b[0mprint\u001b[0m\u001b[1;33m(\u001b[0m\u001b[0mRF_Classifier_result\u001b[0m\u001b[1;33m(\u001b[0m\u001b[0mX_Train_Dtm\u001b[0m\u001b[1;33m,\u001b[0m \u001b[0my_train\u001b[0m\u001b[1;33m,\u001b[0m\u001b[0mX_Test_Dtm\u001b[0m\u001b[1;33m,\u001b[0m\u001b[0my_test\u001b[0m\u001b[1;33m)\u001b[0m\u001b[1;33m)\u001b[0m\u001b[1;33m\u001b[0m\u001b[1;33m\u001b[0m\u001b[0m\n\u001b[0m",
      "\u001b[1;32m<ipython-input-369-ef7bd6cf2595>\u001b[0m in \u001b[0;36mRF_Classifier_result\u001b[1;34m(X, y, X_test, y_test)\u001b[0m\n\u001b[0;32m      6\u001b[0m     \u001b[0mprint\u001b[0m\u001b[1;33m(\u001b[0m\u001b[0mmetrics\u001b[0m\u001b[1;33m.\u001b[0m\u001b[0maccuracy_score\u001b[0m\u001b[1;33m(\u001b[0m\u001b[0my_test\u001b[0m\u001b[1;33m,\u001b[0m\u001b[0mprediction\u001b[0m\u001b[1;33m)\u001b[0m\u001b[1;33m)\u001b[0m\u001b[1;33m\u001b[0m\u001b[1;33m\u001b[0m\u001b[0m\n\u001b[0;32m      7\u001b[0m     \u001b[0mprint\u001b[0m\u001b[1;33m(\u001b[0m\u001b[1;34m\" RF Classifier result:\"\u001b[0m\u001b[1;33m)\u001b[0m\u001b[1;33m\u001b[0m\u001b[1;33m\u001b[0m\u001b[0m\n\u001b[1;32m----> 8\u001b[1;33m     \u001b[1;32mreturn\u001b[0m \u001b[0maccuracy\u001b[0m\u001b[1;33m,\u001b[0m\u001b[0mreport\u001b[0m\u001b[1;33m\u001b[0m\u001b[1;33m\u001b[0m\u001b[0m\n\u001b[0m",
      "\u001b[1;31mNameError\u001b[0m: name 'report' is not defined"
     ]
    }
   ],
   "source": [
    "print(NB_Classifier_result(X_Train_Dtm, y_train,X_Test_Dtm,y_test))\n",
    "print(LG_Classifier_result(X_Train_Dtm, y_train,X_Test_Dtm,y_test)) \n",
    "print(SVM_Classifier_result(X_Train_Dtm, y_train,X_Test_Dtm,y_test))\n",
    "print(XG_Classifier_result(X_Train_Dtm, y_train,X_Test_Dtm,y_test))\n",
    "print(SGD_Classifier_result(X_Train_Dtm, y_train,X_Test_Dtm,y_test))\n",
    "print(RF_Classifier_result(X_Train_Dtm, y_train,X_Test_Dtm,y_test))\n"
   ]
  },
  {
   "cell_type": "markdown",
   "metadata": {},
   "source": [
    "# Build a model : Passing balanced data"
   ]
  },
  {
   "cell_type": "code",
   "execution_count": 371,
   "metadata": {},
   "outputs": [
    {
     "name": "stderr",
     "output_type": "stream",
     "text": [
      "C:\\Users\\sathi\\Anaconda3\\lib\\site-packages\\imblearn\\utils\\_validation.py:638: FutureWarning: Pass sampling_strategy=minority as keyword args. From version 0.9 passing these as positional arguments will result in an error\n",
      "  FutureWarning)\n"
     ]
    },
    {
     "name": "stdout",
     "output_type": "stream",
     "text": [
      "(14836, 515625) (14836,)\n"
     ]
    }
   ],
   "source": [
    "from imblearn.over_sampling import SMOTE\n",
    "smote = SMOTE('minority')\n",
    "\n",
    "X_sm_t, y_sm_t = smote.fit_sample(X_Train_Dtm, y_train)\n",
    "print(X_sm_t.shape, y_sm_t.shape)"
   ]
  },
  {
   "cell_type": "code",
   "execution_count": 372,
   "metadata": {},
   "outputs": [],
   "source": [
    "from imblearn.over_sampling import RandomOverSampler\n",
    "\n",
    "ros = RandomOverSampler()\n",
    "X_ros_t, y_ros_t = ros.fit_sample(X_Train_Dtm, y_train)"
   ]
  },
  {
   "cell_type": "code",
   "execution_count": 373,
   "metadata": {},
   "outputs": [
    {
     "name": "stderr",
     "output_type": "stream",
     "text": [
      "C:\\Users\\sathi\\Anaconda3\\lib\\site-packages\\imblearn\\utils\\_validation.py:638: FutureWarning: Pass sampling_strategy=majority as keyword args. From version 0.9 passing these as positional arguments will result in an error\n",
      "  FutureWarning)\n"
     ]
    },
    {
     "data": {
      "text/plain": [
       "((10334, 515625), (10334,))"
      ]
     },
     "execution_count": 373,
     "metadata": {},
     "output_type": "execute_result"
    }
   ],
   "source": [
    "from imblearn.under_sampling import TomekLinks\n",
    "\n",
    "tl = TomekLinks('majority')\n",
    "X_tl_t, y_tl_t = tl.fit_sample(X_Train_Dtm, y_train)\n",
    "X_tl_t.shape,y_tl_t.shape"
   ]
  },
  {
   "cell_type": "code",
   "execution_count": 374,
   "metadata": {},
   "outputs": [
    {
     "name": "stderr",
     "output_type": "stream",
     "text": [
      "C:\\Users\\sathi\\Anaconda3\\lib\\site-packages\\imblearn\\utils\\_validation.py:638: FutureWarning: Pass sampling_strategy=auto as keyword args. From version 0.9 passing these as positional arguments will result in an error\n",
      "  FutureWarning)\n"
     ]
    }
   ],
   "source": [
    "from imblearn.combine import SMOTETomek\n",
    "\n",
    "smt = SMOTETomek('auto')\n",
    "X_smt_t, y_smt_t = smt.fit_sample(X_Train_Dtm, y_train)"
   ]
  },
  {
   "cell_type": "code",
   "execution_count": 375,
   "metadata": {},
   "outputs": [
    {
     "name": "stderr",
     "output_type": "stream",
     "text": [
      "C:\\Users\\sathi\\Anaconda3\\lib\\site-packages\\sklearn\\metrics\\_classification.py:1221: UndefinedMetricWarning: Recall and F-score are ill-defined and being set to 0.0 in labels with no true samples. Use `zero_division` parameter to control this behavior.\n",
      "  _warn_prf(average, modifier, msg_start, len(result))\n"
     ]
    },
    {
     "name": "stdout",
     "output_type": "stream",
     "text": [
      "              precision    recall  f1-score   support\n",
      "\n",
      "           1       0.98      0.33      0.49       724\n",
      "           2       0.00      0.00      0.00         0\n",
      "           3       0.00      0.00      0.00         0\n",
      "           4       0.00      0.00      0.00         0\n",
      "           5       0.98      0.55      0.71      2862\n",
      "\n",
      "    accuracy                           0.51      3586\n",
      "   macro avg       0.39      0.18      0.24      3586\n",
      "weighted avg       0.98      0.51      0.66      3586\n",
      "\n",
      "0.507250418293363\n",
      "NB Classifier result:\n",
      "None\n"
     ]
    },
    {
     "name": "stderr",
     "output_type": "stream",
     "text": [
      "C:\\Users\\sathi\\Anaconda3\\lib\\site-packages\\sklearn\\linear_model\\_logistic.py:764: ConvergenceWarning: lbfgs failed to converge (status=1):\n",
      "STOP: TOTAL NO. of ITERATIONS REACHED LIMIT.\n",
      "\n",
      "Increase the number of iterations (max_iter) or scale the data as shown in:\n",
      "    https://scikit-learn.org/stable/modules/preprocessing.html\n",
      "Please also refer to the documentation for alternative solver options:\n",
      "    https://scikit-learn.org/stable/modules/linear_model.html#logistic-regression\n",
      "  extra_warning_msg=_LOGISTIC_SOLVER_CONVERGENCE_MSG)\n"
     ]
    },
    {
     "name": "stdout",
     "output_type": "stream",
     "text": [
      "              precision    recall  f1-score   support\n",
      "\n",
      "           1       0.86      0.46      0.60       454\n",
      "           2       0.01      0.67      0.01         3\n",
      "           3       0.04      0.37      0.07        41\n",
      "           4       0.49      0.46      0.47      1085\n",
      "           5       0.85      0.69      0.76      2003\n",
      "\n",
      "    accuracy                           0.59      3586\n",
      "   macro avg       0.45      0.53      0.38      3586\n",
      "weighted avg       0.73      0.59      0.64      3586\n",
      "\n",
      "0.5850529838259899\n",
      " LG Classifier result:\n",
      "None\n",
      "              precision    recall  f1-score   support\n",
      "\n",
      "           1       0.77      0.56      0.65       328\n",
      "           2       0.17      0.50      0.25       105\n",
      "           3       0.16      0.41      0.23       145\n",
      "           4       0.50      0.47      0.49      1085\n",
      "           5       0.82      0.69      0.75      1923\n",
      "\n",
      "    accuracy                           0.60      3586\n",
      "   macro avg       0.48      0.53      0.47      3586\n",
      "weighted avg       0.68      0.60      0.63      3586\n",
      "\n",
      "0.5989960959286112\n",
      " SVM Classifier result:\n",
      "None\n",
      "              precision    recall  f1-score   support\n",
      "\n",
      "           1       0.51      0.60      0.55       208\n",
      "           2       0.25      0.40      0.31       199\n",
      "           3       0.20      0.35      0.26       228\n",
      "           4       0.50      0.45      0.47      1130\n",
      "           5       0.77      0.69      0.73      1821\n",
      "\n",
      "    accuracy                           0.57      3586\n",
      "   macro avg       0.45      0.50      0.46      3586\n",
      "weighted avg       0.61      0.57      0.58      3586\n",
      "\n",
      "0.569994422755159\n",
      " XGB Classifier result:\n",
      "None\n",
      "              precision    recall  f1-score   support\n",
      "\n",
      "           1       0.85      0.46      0.60       444\n",
      "           2       0.07      0.49      0.12        45\n",
      "           3       0.10      0.45      0.17        89\n",
      "           4       0.36      0.47      0.41       788\n",
      "           5       0.90      0.65      0.76      2220\n",
      "\n",
      "    accuracy                           0.58      3586\n",
      "   macro avg       0.46      0.50      0.41      3586\n",
      "weighted avg       0.74      0.58      0.64      3586\n",
      "\n",
      "0.5828220858895705\n",
      " SGD Classifier result:\n",
      "None\n",
      "              precision    recall  f1-score   support\n",
      "\n",
      "           1       0.46      0.63      0.53       176\n",
      "           2       0.00      0.00      0.00         0\n",
      "           3       0.00      0.00      0.00         0\n",
      "           4       0.04      0.39      0.07       105\n",
      "           5       0.99      0.49      0.65      3305\n",
      "\n",
      "    accuracy                           0.49      3586\n",
      "   macro avg       0.30      0.30      0.25      3586\n",
      "weighted avg       0.94      0.49      0.63      3586\n",
      "\n",
      "0.4894032348020078\n",
      " RF Classifier result:\n"
     ]
    },
    {
     "name": "stderr",
     "output_type": "stream",
     "text": [
      "C:\\Users\\sathi\\Anaconda3\\lib\\site-packages\\sklearn\\metrics\\_classification.py:1221: UndefinedMetricWarning: Recall and F-score are ill-defined and being set to 0.0 in labels with no true samples. Use `zero_division` parameter to control this behavior.\n",
      "  _warn_prf(average, modifier, msg_start, len(result))\n"
     ]
    },
    {
     "ename": "NameError",
     "evalue": "name 'report' is not defined",
     "output_type": "error",
     "traceback": [
      "\u001b[1;31m---------------------------------------------------------------------------\u001b[0m",
      "\u001b[1;31mNameError\u001b[0m                                 Traceback (most recent call last)",
      "\u001b[1;32m<ipython-input-375-fef07b45ab17>\u001b[0m in \u001b[0;36m<module>\u001b[1;34m\u001b[0m\n\u001b[0;32m      4\u001b[0m \u001b[0mprint\u001b[0m\u001b[1;33m(\u001b[0m\u001b[0mXG_Classifier_result\u001b[0m\u001b[1;33m(\u001b[0m\u001b[0mX_sm_t\u001b[0m\u001b[1;33m,\u001b[0m \u001b[0my_sm_t\u001b[0m\u001b[1;33m,\u001b[0m\u001b[0mX_Test_Dtm\u001b[0m\u001b[1;33m,\u001b[0m\u001b[0my_test\u001b[0m\u001b[1;33m)\u001b[0m\u001b[1;33m)\u001b[0m\u001b[1;33m\u001b[0m\u001b[1;33m\u001b[0m\u001b[0m\n\u001b[0;32m      5\u001b[0m \u001b[0mprint\u001b[0m\u001b[1;33m(\u001b[0m\u001b[0mSGD_Classifier_result\u001b[0m\u001b[1;33m(\u001b[0m\u001b[0mX_sm_t\u001b[0m\u001b[1;33m,\u001b[0m \u001b[0my_sm_t\u001b[0m\u001b[1;33m,\u001b[0m\u001b[0mX_Test_Dtm\u001b[0m\u001b[1;33m,\u001b[0m\u001b[0my_test\u001b[0m\u001b[1;33m)\u001b[0m\u001b[1;33m)\u001b[0m\u001b[1;33m\u001b[0m\u001b[1;33m\u001b[0m\u001b[0m\n\u001b[1;32m----> 6\u001b[1;33m \u001b[0mprint\u001b[0m\u001b[1;33m(\u001b[0m\u001b[0mRF_Classifier_result\u001b[0m\u001b[1;33m(\u001b[0m\u001b[0mX_sm_t\u001b[0m\u001b[1;33m,\u001b[0m \u001b[0my_sm_t\u001b[0m\u001b[1;33m,\u001b[0m\u001b[0mX_Test_Dtm\u001b[0m\u001b[1;33m,\u001b[0m\u001b[0my_test\u001b[0m\u001b[1;33m)\u001b[0m\u001b[1;33m)\u001b[0m\u001b[1;33m\u001b[0m\u001b[1;33m\u001b[0m\u001b[0m\n\u001b[0m",
      "\u001b[1;32m<ipython-input-369-ef7bd6cf2595>\u001b[0m in \u001b[0;36mRF_Classifier_result\u001b[1;34m(X, y, X_test, y_test)\u001b[0m\n\u001b[0;32m      6\u001b[0m     \u001b[0mprint\u001b[0m\u001b[1;33m(\u001b[0m\u001b[0mmetrics\u001b[0m\u001b[1;33m.\u001b[0m\u001b[0maccuracy_score\u001b[0m\u001b[1;33m(\u001b[0m\u001b[0my_test\u001b[0m\u001b[1;33m,\u001b[0m\u001b[0mprediction\u001b[0m\u001b[1;33m)\u001b[0m\u001b[1;33m)\u001b[0m\u001b[1;33m\u001b[0m\u001b[1;33m\u001b[0m\u001b[0m\n\u001b[0;32m      7\u001b[0m     \u001b[0mprint\u001b[0m\u001b[1;33m(\u001b[0m\u001b[1;34m\" RF Classifier result:\"\u001b[0m\u001b[1;33m)\u001b[0m\u001b[1;33m\u001b[0m\u001b[1;33m\u001b[0m\u001b[0m\n\u001b[1;32m----> 8\u001b[1;33m     \u001b[1;32mreturn\u001b[0m \u001b[0maccuracy\u001b[0m\u001b[1;33m,\u001b[0m\u001b[0mreport\u001b[0m\u001b[1;33m\u001b[0m\u001b[1;33m\u001b[0m\u001b[0m\n\u001b[0m",
      "\u001b[1;31mNameError\u001b[0m: name 'report' is not defined"
     ]
    }
   ],
   "source": [
    "print(NB_Classifier_result(X_sm_t, y_sm_t,X_Test_Dtm,y_test))\n",
    "print(LG_Classifier_result(X_sm_t, y_sm_t,X_Test_Dtm,y_test))\n",
    "print(SVM_Classifier_result(X_sm_t, y_sm_t,X_Test_Dtm,y_test))\n",
    "print(XG_Classifier_result(X_sm_t, y_sm_t,X_Test_Dtm,y_test))\n",
    "print(SGD_Classifier_result(X_sm_t, y_sm_t,X_Test_Dtm,y_test))\n"
   ]
  },
  {
   "cell_type": "code",
   "execution_count": 382,
   "metadata": {},
   "outputs": [
    {
     "name": "stdout",
     "output_type": "stream",
     "text": [
      "              precision    recall  f1-score   support\n",
      "\n",
      "           1       0.48      0.60      0.54       192\n",
      "           2       0.00      0.00      0.00         0\n",
      "           3       0.00      0.00      0.00         0\n",
      "           4       0.03      0.29      0.05        89\n",
      "           5       0.99      0.48      0.65      3305\n",
      "\n",
      "    accuracy                           0.49      3586\n",
      "   macro avg       0.30      0.28      0.25      3586\n",
      "weighted avg       0.94      0.49      0.63      3586\n",
      "\n",
      "0.4860568878973787\n",
      " RF Classifier result:\n",
      "None\n"
     ]
    },
    {
     "name": "stderr",
     "output_type": "stream",
     "text": [
      "C:\\Users\\sathi\\Anaconda3\\lib\\site-packages\\sklearn\\metrics\\_classification.py:1221: UndefinedMetricWarning: Recall and F-score are ill-defined and being set to 0.0 in labels with no true samples. Use `zero_division` parameter to control this behavior.\n",
      "  _warn_prf(average, modifier, msg_start, len(result))\n"
     ]
    }
   ],
   "source": [
    "print(RF_Classifier_result(X_sm_t, y_sm_t,X_Test_Dtm,y_test))"
   ]
  },
  {
   "cell_type": "markdown",
   "metadata": {},
   "source": [
    "# Hyper parameter tuning "
   ]
  },
  {
   "cell_type": "code",
   "execution_count": 383,
   "metadata": {},
   "outputs": [
    {
     "data": {
      "text/plain": [
       "SVC(class_weight={1: 0.4468120456905504, 2: 0.6825507614213198,\n",
       "                  3: 1.915761353517364, 4: 2.3108485499462943,\n",
       "                  5: 2.9230978260869565},\n",
       "    kernel='linear')"
      ]
     },
     "execution_count": 383,
     "metadata": {},
     "output_type": "execute_result"
    }
   ],
   "source": [
    "#SVC include parameter class_weight\n",
    "from sklearn.svm import SVC\n",
    "model = SVC(C=10, gamma=1,kernel='linear',class_weight=weight) \n",
    "model.fit(X_sm_t, y_sm_t)"
   ]
  },
  {
   "cell_type": "code",
   "execution_count": 384,
   "metadata": {},
   "outputs": [],
   "source": [
    "predictions = model.predict(X_Test_Dtm) "
   ]
  },
  {
   "cell_type": "code",
   "execution_count": 385,
   "metadata": {},
   "outputs": [
    {
     "data": {
      "text/plain": [
       "0.5984383714445064"
      ]
     },
     "execution_count": 385,
     "metadata": {},
     "output_type": "execute_result"
    }
   ],
   "source": [
    "metrics.accuracy_score(y_test,predictions)"
   ]
  },
  {
   "cell_type": "code",
   "execution_count": null,
   "metadata": {},
   "outputs": [],
   "source": []
  },
  {
   "cell_type": "code",
   "execution_count": 390,
   "metadata": {},
   "outputs": [
    {
     "name": "stderr",
     "output_type": "stream",
     "text": [
      "C:\\Users\\sathi\\Anaconda3\\lib\\site-packages\\sklearn\\linear_model\\_logistic.py:764: ConvergenceWarning: lbfgs failed to converge (status=1):\n",
      "STOP: TOTAL NO. of ITERATIONS REACHED LIMIT.\n",
      "\n",
      "Increase the number of iterations (max_iter) or scale the data as shown in:\n",
      "    https://scikit-learn.org/stable/modules/preprocessing.html\n",
      "Please also refer to the documentation for alternative solver options:\n",
      "    https://scikit-learn.org/stable/modules/linear_model.html#logistic-regression\n",
      "  extra_warning_msg=_LOGISTIC_SOLVER_CONVERGENCE_MSG)\n",
      "C:\\Users\\sathi\\Anaconda3\\lib\\site-packages\\sklearn\\linear_model\\_logistic.py:764: ConvergenceWarning: lbfgs failed to converge (status=1):\n",
      "STOP: TOTAL NO. of ITERATIONS REACHED LIMIT.\n",
      "\n",
      "Increase the number of iterations (max_iter) or scale the data as shown in:\n",
      "    https://scikit-learn.org/stable/modules/preprocessing.html\n",
      "Please also refer to the documentation for alternative solver options:\n",
      "    https://scikit-learn.org/stable/modules/linear_model.html#logistic-regression\n",
      "  extra_warning_msg=_LOGISTIC_SOLVER_CONVERGENCE_MSG)\n",
      "C:\\Users\\sathi\\Anaconda3\\lib\\site-packages\\sklearn\\linear_model\\_logistic.py:764: ConvergenceWarning: lbfgs failed to converge (status=1):\n",
      "STOP: TOTAL NO. of ITERATIONS REACHED LIMIT.\n",
      "\n",
      "Increase the number of iterations (max_iter) or scale the data as shown in:\n",
      "    https://scikit-learn.org/stable/modules/preprocessing.html\n",
      "Please also refer to the documentation for alternative solver options:\n",
      "    https://scikit-learn.org/stable/modules/linear_model.html#logistic-regression\n",
      "  extra_warning_msg=_LOGISTIC_SOLVER_CONVERGENCE_MSG)\n",
      "C:\\Users\\sathi\\Anaconda3\\lib\\site-packages\\sklearn\\linear_model\\_logistic.py:764: ConvergenceWarning: lbfgs failed to converge (status=1):\n",
      "STOP: TOTAL NO. of ITERATIONS REACHED LIMIT.\n",
      "\n",
      "Increase the number of iterations (max_iter) or scale the data as shown in:\n",
      "    https://scikit-learn.org/stable/modules/preprocessing.html\n",
      "Please also refer to the documentation for alternative solver options:\n",
      "    https://scikit-learn.org/stable/modules/linear_model.html#logistic-regression\n",
      "  extra_warning_msg=_LOGISTIC_SOLVER_CONVERGENCE_MSG)\n",
      "C:\\Users\\sathi\\Anaconda3\\lib\\site-packages\\sklearn\\linear_model\\_logistic.py:764: ConvergenceWarning: lbfgs failed to converge (status=1):\n",
      "STOP: TOTAL NO. of ITERATIONS REACHED LIMIT.\n",
      "\n",
      "Increase the number of iterations (max_iter) or scale the data as shown in:\n",
      "    https://scikit-learn.org/stable/modules/preprocessing.html\n",
      "Please also refer to the documentation for alternative solver options:\n",
      "    https://scikit-learn.org/stable/modules/linear_model.html#logistic-regression\n",
      "  extra_warning_msg=_LOGISTIC_SOLVER_CONVERGENCE_MSG)\n",
      "C:\\Users\\sathi\\Anaconda3\\lib\\site-packages\\sklearn\\linear_model\\_logistic.py:764: ConvergenceWarning: lbfgs failed to converge (status=1):\n",
      "STOP: TOTAL NO. of ITERATIONS REACHED LIMIT.\n",
      "\n",
      "Increase the number of iterations (max_iter) or scale the data as shown in:\n",
      "    https://scikit-learn.org/stable/modules/preprocessing.html\n",
      "Please also refer to the documentation for alternative solver options:\n",
      "    https://scikit-learn.org/stable/modules/linear_model.html#logistic-regression\n",
      "  extra_warning_msg=_LOGISTIC_SOLVER_CONVERGENCE_MSG)\n",
      "C:\\Users\\sathi\\Anaconda3\\lib\\site-packages\\sklearn\\linear_model\\_logistic.py:764: ConvergenceWarning: lbfgs failed to converge (status=1):\n",
      "STOP: TOTAL NO. of ITERATIONS REACHED LIMIT.\n",
      "\n",
      "Increase the number of iterations (max_iter) or scale the data as shown in:\n",
      "    https://scikit-learn.org/stable/modules/preprocessing.html\n",
      "Please also refer to the documentation for alternative solver options:\n",
      "    https://scikit-learn.org/stable/modules/linear_model.html#logistic-regression\n",
      "  extra_warning_msg=_LOGISTIC_SOLVER_CONVERGENCE_MSG)\n",
      "C:\\Users\\sathi\\Anaconda3\\lib\\site-packages\\sklearn\\linear_model\\_logistic.py:764: ConvergenceWarning: lbfgs failed to converge (status=1):\n",
      "STOP: TOTAL NO. of ITERATIONS REACHED LIMIT.\n",
      "\n",
      "Increase the number of iterations (max_iter) or scale the data as shown in:\n",
      "    https://scikit-learn.org/stable/modules/preprocessing.html\n",
      "Please also refer to the documentation for alternative solver options:\n",
      "    https://scikit-learn.org/stable/modules/linear_model.html#logistic-regression\n",
      "  extra_warning_msg=_LOGISTIC_SOLVER_CONVERGENCE_MSG)\n",
      "C:\\Users\\sathi\\Anaconda3\\lib\\site-packages\\sklearn\\linear_model\\_logistic.py:764: ConvergenceWarning: lbfgs failed to converge (status=1):\n",
      "STOP: TOTAL NO. of ITERATIONS REACHED LIMIT.\n",
      "\n",
      "Increase the number of iterations (max_iter) or scale the data as shown in:\n",
      "    https://scikit-learn.org/stable/modules/preprocessing.html\n",
      "Please also refer to the documentation for alternative solver options:\n",
      "    https://scikit-learn.org/stable/modules/linear_model.html#logistic-regression\n",
      "  extra_warning_msg=_LOGISTIC_SOLVER_CONVERGENCE_MSG)\n",
      "C:\\Users\\sathi\\Anaconda3\\lib\\site-packages\\sklearn\\linear_model\\_logistic.py:764: ConvergenceWarning: lbfgs failed to converge (status=1):\n",
      "STOP: TOTAL NO. of ITERATIONS REACHED LIMIT.\n",
      "\n",
      "Increase the number of iterations (max_iter) or scale the data as shown in:\n",
      "    https://scikit-learn.org/stable/modules/preprocessing.html\n",
      "Please also refer to the documentation for alternative solver options:\n",
      "    https://scikit-learn.org/stable/modules/linear_model.html#logistic-regression\n",
      "  extra_warning_msg=_LOGISTIC_SOLVER_CONVERGENCE_MSG)\n",
      "C:\\Users\\sathi\\Anaconda3\\lib\\site-packages\\sklearn\\linear_model\\_logistic.py:764: ConvergenceWarning: lbfgs failed to converge (status=1):\n",
      "STOP: TOTAL NO. of ITERATIONS REACHED LIMIT.\n",
      "\n",
      "Increase the number of iterations (max_iter) or scale the data as shown in:\n",
      "    https://scikit-learn.org/stable/modules/preprocessing.html\n",
      "Please also refer to the documentation for alternative solver options:\n",
      "    https://scikit-learn.org/stable/modules/linear_model.html#logistic-regression\n",
      "  extra_warning_msg=_LOGISTIC_SOLVER_CONVERGENCE_MSG)\n",
      "C:\\Users\\sathi\\Anaconda3\\lib\\site-packages\\sklearn\\linear_model\\_logistic.py:764: ConvergenceWarning: lbfgs failed to converge (status=1):\n",
      "STOP: TOTAL NO. of ITERATIONS REACHED LIMIT.\n",
      "\n",
      "Increase the number of iterations (max_iter) or scale the data as shown in:\n",
      "    https://scikit-learn.org/stable/modules/preprocessing.html\n",
      "Please also refer to the documentation for alternative solver options:\n",
      "    https://scikit-learn.org/stable/modules/linear_model.html#logistic-regression\n",
      "  extra_warning_msg=_LOGISTIC_SOLVER_CONVERGENCE_MSG)\n",
      "C:\\Users\\sathi\\Anaconda3\\lib\\site-packages\\sklearn\\linear_model\\_logistic.py:764: ConvergenceWarning: lbfgs failed to converge (status=1):\n",
      "STOP: TOTAL NO. of ITERATIONS REACHED LIMIT.\n",
      "\n",
      "Increase the number of iterations (max_iter) or scale the data as shown in:\n",
      "    https://scikit-learn.org/stable/modules/preprocessing.html\n",
      "Please also refer to the documentation for alternative solver options:\n",
      "    https://scikit-learn.org/stable/modules/linear_model.html#logistic-regression\n",
      "  extra_warning_msg=_LOGISTIC_SOLVER_CONVERGENCE_MSG)\n",
      "C:\\Users\\sathi\\Anaconda3\\lib\\site-packages\\sklearn\\linear_model\\_logistic.py:764: ConvergenceWarning: lbfgs failed to converge (status=1):\n",
      "STOP: TOTAL NO. of ITERATIONS REACHED LIMIT.\n",
      "\n",
      "Increase the number of iterations (max_iter) or scale the data as shown in:\n",
      "    https://scikit-learn.org/stable/modules/preprocessing.html\n",
      "Please also refer to the documentation for alternative solver options:\n",
      "    https://scikit-learn.org/stable/modules/linear_model.html#logistic-regression\n",
      "  extra_warning_msg=_LOGISTIC_SOLVER_CONVERGENCE_MSG)\n",
      "C:\\Users\\sathi\\Anaconda3\\lib\\site-packages\\sklearn\\linear_model\\_logistic.py:764: ConvergenceWarning: lbfgs failed to converge (status=1):\n",
      "STOP: TOTAL NO. of ITERATIONS REACHED LIMIT.\n",
      "\n",
      "Increase the number of iterations (max_iter) or scale the data as shown in:\n",
      "    https://scikit-learn.org/stable/modules/preprocessing.html\n",
      "Please also refer to the documentation for alternative solver options:\n",
      "    https://scikit-learn.org/stable/modules/linear_model.html#logistic-regression\n",
      "  extra_warning_msg=_LOGISTIC_SOLVER_CONVERGENCE_MSG)\n",
      "C:\\Users\\sathi\\Anaconda3\\lib\\site-packages\\sklearn\\linear_model\\_logistic.py:764: ConvergenceWarning: lbfgs failed to converge (status=1):\n",
      "STOP: TOTAL NO. of ITERATIONS REACHED LIMIT.\n",
      "\n",
      "Increase the number of iterations (max_iter) or scale the data as shown in:\n",
      "    https://scikit-learn.org/stable/modules/preprocessing.html\n",
      "Please also refer to the documentation for alternative solver options:\n",
      "    https://scikit-learn.org/stable/modules/linear_model.html#logistic-regression\n",
      "  extra_warning_msg=_LOGISTIC_SOLVER_CONVERGENCE_MSG)\n"
     ]
    },
    {
     "name": "stderr",
     "output_type": "stream",
     "text": [
      "C:\\Users\\sathi\\Anaconda3\\lib\\site-packages\\sklearn\\linear_model\\_logistic.py:764: ConvergenceWarning: lbfgs failed to converge (status=1):\n",
      "STOP: TOTAL NO. of ITERATIONS REACHED LIMIT.\n",
      "\n",
      "Increase the number of iterations (max_iter) or scale the data as shown in:\n",
      "    https://scikit-learn.org/stable/modules/preprocessing.html\n",
      "Please also refer to the documentation for alternative solver options:\n",
      "    https://scikit-learn.org/stable/modules/linear_model.html#logistic-regression\n",
      "  extra_warning_msg=_LOGISTIC_SOLVER_CONVERGENCE_MSG)\n",
      "C:\\Users\\sathi\\Anaconda3\\lib\\site-packages\\sklearn\\linear_model\\_logistic.py:764: ConvergenceWarning: lbfgs failed to converge (status=1):\n",
      "STOP: TOTAL NO. of ITERATIONS REACHED LIMIT.\n",
      "\n",
      "Increase the number of iterations (max_iter) or scale the data as shown in:\n",
      "    https://scikit-learn.org/stable/modules/preprocessing.html\n",
      "Please also refer to the documentation for alternative solver options:\n",
      "    https://scikit-learn.org/stable/modules/linear_model.html#logistic-regression\n",
      "  extra_warning_msg=_LOGISTIC_SOLVER_CONVERGENCE_MSG)\n",
      "C:\\Users\\sathi\\Anaconda3\\lib\\site-packages\\sklearn\\linear_model\\_logistic.py:764: ConvergenceWarning: lbfgs failed to converge (status=1):\n",
      "STOP: TOTAL NO. of ITERATIONS REACHED LIMIT.\n",
      "\n",
      "Increase the number of iterations (max_iter) or scale the data as shown in:\n",
      "    https://scikit-learn.org/stable/modules/preprocessing.html\n",
      "Please also refer to the documentation for alternative solver options:\n",
      "    https://scikit-learn.org/stable/modules/linear_model.html#logistic-regression\n",
      "  extra_warning_msg=_LOGISTIC_SOLVER_CONVERGENCE_MSG)\n",
      "C:\\Users\\sathi\\Anaconda3\\lib\\site-packages\\sklearn\\linear_model\\_logistic.py:764: ConvergenceWarning: lbfgs failed to converge (status=1):\n",
      "STOP: TOTAL NO. of ITERATIONS REACHED LIMIT.\n",
      "\n",
      "Increase the number of iterations (max_iter) or scale the data as shown in:\n",
      "    https://scikit-learn.org/stable/modules/preprocessing.html\n",
      "Please also refer to the documentation for alternative solver options:\n",
      "    https://scikit-learn.org/stable/modules/linear_model.html#logistic-regression\n",
      "  extra_warning_msg=_LOGISTIC_SOLVER_CONVERGENCE_MSG)\n",
      "C:\\Users\\sathi\\Anaconda3\\lib\\site-packages\\sklearn\\linear_model\\_logistic.py:764: ConvergenceWarning: lbfgs failed to converge (status=1):\n",
      "STOP: TOTAL NO. of ITERATIONS REACHED LIMIT.\n",
      "\n",
      "Increase the number of iterations (max_iter) or scale the data as shown in:\n",
      "    https://scikit-learn.org/stable/modules/preprocessing.html\n",
      "Please also refer to the documentation for alternative solver options:\n",
      "    https://scikit-learn.org/stable/modules/linear_model.html#logistic-regression\n",
      "  extra_warning_msg=_LOGISTIC_SOLVER_CONVERGENCE_MSG)\n",
      "C:\\Users\\sathi\\Anaconda3\\lib\\site-packages\\sklearn\\linear_model\\_logistic.py:764: ConvergenceWarning: lbfgs failed to converge (status=1):\n",
      "STOP: TOTAL NO. of ITERATIONS REACHED LIMIT.\n",
      "\n",
      "Increase the number of iterations (max_iter) or scale the data as shown in:\n",
      "    https://scikit-learn.org/stable/modules/preprocessing.html\n",
      "Please also refer to the documentation for alternative solver options:\n",
      "    https://scikit-learn.org/stable/modules/linear_model.html#logistic-regression\n",
      "  extra_warning_msg=_LOGISTIC_SOLVER_CONVERGENCE_MSG)\n",
      "C:\\Users\\sathi\\Anaconda3\\lib\\site-packages\\sklearn\\linear_model\\_logistic.py:764: ConvergenceWarning: lbfgs failed to converge (status=1):\n",
      "STOP: TOTAL NO. of ITERATIONS REACHED LIMIT.\n",
      "\n",
      "Increase the number of iterations (max_iter) or scale the data as shown in:\n",
      "    https://scikit-learn.org/stable/modules/preprocessing.html\n",
      "Please also refer to the documentation for alternative solver options:\n",
      "    https://scikit-learn.org/stable/modules/linear_model.html#logistic-regression\n",
      "  extra_warning_msg=_LOGISTIC_SOLVER_CONVERGENCE_MSG)\n",
      "C:\\Users\\sathi\\Anaconda3\\lib\\site-packages\\sklearn\\linear_model\\_logistic.py:764: ConvergenceWarning: lbfgs failed to converge (status=1):\n",
      "STOP: TOTAL NO. of ITERATIONS REACHED LIMIT.\n",
      "\n",
      "Increase the number of iterations (max_iter) or scale the data as shown in:\n",
      "    https://scikit-learn.org/stable/modules/preprocessing.html\n",
      "Please also refer to the documentation for alternative solver options:\n",
      "    https://scikit-learn.org/stable/modules/linear_model.html#logistic-regression\n",
      "  extra_warning_msg=_LOGISTIC_SOLVER_CONVERGENCE_MSG)\n",
      "C:\\Users\\sathi\\Anaconda3\\lib\\site-packages\\sklearn\\linear_model\\_logistic.py:764: ConvergenceWarning: lbfgs failed to converge (status=1):\n",
      "STOP: TOTAL NO. of ITERATIONS REACHED LIMIT.\n",
      "\n",
      "Increase the number of iterations (max_iter) or scale the data as shown in:\n",
      "    https://scikit-learn.org/stable/modules/preprocessing.html\n",
      "Please also refer to the documentation for alternative solver options:\n",
      "    https://scikit-learn.org/stable/modules/linear_model.html#logistic-regression\n",
      "  extra_warning_msg=_LOGISTIC_SOLVER_CONVERGENCE_MSG)\n",
      "C:\\Users\\sathi\\Anaconda3\\lib\\site-packages\\sklearn\\linear_model\\_logistic.py:764: ConvergenceWarning: lbfgs failed to converge (status=1):\n",
      "STOP: TOTAL NO. of ITERATIONS REACHED LIMIT.\n",
      "\n",
      "Increase the number of iterations (max_iter) or scale the data as shown in:\n",
      "    https://scikit-learn.org/stable/modules/preprocessing.html\n",
      "Please also refer to the documentation for alternative solver options:\n",
      "    https://scikit-learn.org/stable/modules/linear_model.html#logistic-regression\n",
      "  extra_warning_msg=_LOGISTIC_SOLVER_CONVERGENCE_MSG)\n",
      "C:\\Users\\sathi\\Anaconda3\\lib\\site-packages\\sklearn\\linear_model\\_logistic.py:764: ConvergenceWarning: lbfgs failed to converge (status=1):\n",
      "STOP: TOTAL NO. of ITERATIONS REACHED LIMIT.\n",
      "\n",
      "Increase the number of iterations (max_iter) or scale the data as shown in:\n",
      "    https://scikit-learn.org/stable/modules/preprocessing.html\n",
      "Please also refer to the documentation for alternative solver options:\n",
      "    https://scikit-learn.org/stable/modules/linear_model.html#logistic-regression\n",
      "  extra_warning_msg=_LOGISTIC_SOLVER_CONVERGENCE_MSG)\n",
      "C:\\Users\\sathi\\Anaconda3\\lib\\site-packages\\sklearn\\linear_model\\_logistic.py:764: ConvergenceWarning: lbfgs failed to converge (status=1):\n",
      "STOP: TOTAL NO. of ITERATIONS REACHED LIMIT.\n",
      "\n",
      "Increase the number of iterations (max_iter) or scale the data as shown in:\n",
      "    https://scikit-learn.org/stable/modules/preprocessing.html\n",
      "Please also refer to the documentation for alternative solver options:\n",
      "    https://scikit-learn.org/stable/modules/linear_model.html#logistic-regression\n",
      "  extra_warning_msg=_LOGISTIC_SOLVER_CONVERGENCE_MSG)\n",
      "C:\\Users\\sathi\\Anaconda3\\lib\\site-packages\\sklearn\\linear_model\\_logistic.py:764: ConvergenceWarning: lbfgs failed to converge (status=1):\n",
      "STOP: TOTAL NO. of ITERATIONS REACHED LIMIT.\n",
      "\n",
      "Increase the number of iterations (max_iter) or scale the data as shown in:\n",
      "    https://scikit-learn.org/stable/modules/preprocessing.html\n",
      "Please also refer to the documentation for alternative solver options:\n",
      "    https://scikit-learn.org/stable/modules/linear_model.html#logistic-regression\n",
      "  extra_warning_msg=_LOGISTIC_SOLVER_CONVERGENCE_MSG)\n",
      "C:\\Users\\sathi\\Anaconda3\\lib\\site-packages\\sklearn\\linear_model\\_logistic.py:764: ConvergenceWarning: lbfgs failed to converge (status=1):\n",
      "STOP: TOTAL NO. of ITERATIONS REACHED LIMIT.\n",
      "\n",
      "Increase the number of iterations (max_iter) or scale the data as shown in:\n",
      "    https://scikit-learn.org/stable/modules/preprocessing.html\n",
      "Please also refer to the documentation for alternative solver options:\n",
      "    https://scikit-learn.org/stable/modules/linear_model.html#logistic-regression\n",
      "  extra_warning_msg=_LOGISTIC_SOLVER_CONVERGENCE_MSG)\n",
      "C:\\Users\\sathi\\Anaconda3\\lib\\site-packages\\sklearn\\linear_model\\_logistic.py:764: ConvergenceWarning: lbfgs failed to converge (status=1):\n",
      "STOP: TOTAL NO. of ITERATIONS REACHED LIMIT.\n",
      "\n",
      "Increase the number of iterations (max_iter) or scale the data as shown in:\n",
      "    https://scikit-learn.org/stable/modules/preprocessing.html\n",
      "Please also refer to the documentation for alternative solver options:\n",
      "    https://scikit-learn.org/stable/modules/linear_model.html#logistic-regression\n",
      "  extra_warning_msg=_LOGISTIC_SOLVER_CONVERGENCE_MSG)\n",
      "C:\\Users\\sathi\\Anaconda3\\lib\\site-packages\\sklearn\\linear_model\\_logistic.py:764: ConvergenceWarning: lbfgs failed to converge (status=1):\n",
      "STOP: TOTAL NO. of ITERATIONS REACHED LIMIT.\n",
      "\n",
      "Increase the number of iterations (max_iter) or scale the data as shown in:\n",
      "    https://scikit-learn.org/stable/modules/preprocessing.html\n",
      "Please also refer to the documentation for alternative solver options:\n",
      "    https://scikit-learn.org/stable/modules/linear_model.html#logistic-regression\n",
      "  extra_warning_msg=_LOGISTIC_SOLVER_CONVERGENCE_MSG)\n"
     ]
    },
    {
     "name": "stderr",
     "output_type": "stream",
     "text": [
      "C:\\Users\\sathi\\Anaconda3\\lib\\site-packages\\sklearn\\linear_model\\_logistic.py:764: ConvergenceWarning: lbfgs failed to converge (status=1):\n",
      "STOP: TOTAL NO. of ITERATIONS REACHED LIMIT.\n",
      "\n",
      "Increase the number of iterations (max_iter) or scale the data as shown in:\n",
      "    https://scikit-learn.org/stable/modules/preprocessing.html\n",
      "Please also refer to the documentation for alternative solver options:\n",
      "    https://scikit-learn.org/stable/modules/linear_model.html#logistic-regression\n",
      "  extra_warning_msg=_LOGISTIC_SOLVER_CONVERGENCE_MSG)\n",
      "C:\\Users\\sathi\\Anaconda3\\lib\\site-packages\\sklearn\\linear_model\\_logistic.py:764: ConvergenceWarning: lbfgs failed to converge (status=1):\n",
      "STOP: TOTAL NO. of ITERATIONS REACHED LIMIT.\n",
      "\n",
      "Increase the number of iterations (max_iter) or scale the data as shown in:\n",
      "    https://scikit-learn.org/stable/modules/preprocessing.html\n",
      "Please also refer to the documentation for alternative solver options:\n",
      "    https://scikit-learn.org/stable/modules/linear_model.html#logistic-regression\n",
      "  extra_warning_msg=_LOGISTIC_SOLVER_CONVERGENCE_MSG)\n",
      "C:\\Users\\sathi\\Anaconda3\\lib\\site-packages\\sklearn\\linear_model\\_logistic.py:764: ConvergenceWarning: lbfgs failed to converge (status=1):\n",
      "STOP: TOTAL NO. of ITERATIONS REACHED LIMIT.\n",
      "\n",
      "Increase the number of iterations (max_iter) or scale the data as shown in:\n",
      "    https://scikit-learn.org/stable/modules/preprocessing.html\n",
      "Please also refer to the documentation for alternative solver options:\n",
      "    https://scikit-learn.org/stable/modules/linear_model.html#logistic-regression\n",
      "  extra_warning_msg=_LOGISTIC_SOLVER_CONVERGENCE_MSG)\n",
      "C:\\Users\\sathi\\Anaconda3\\lib\\site-packages\\sklearn\\linear_model\\_logistic.py:764: ConvergenceWarning: lbfgs failed to converge (status=1):\n",
      "STOP: TOTAL NO. of ITERATIONS REACHED LIMIT.\n",
      "\n",
      "Increase the number of iterations (max_iter) or scale the data as shown in:\n",
      "    https://scikit-learn.org/stable/modules/preprocessing.html\n",
      "Please also refer to the documentation for alternative solver options:\n",
      "    https://scikit-learn.org/stable/modules/linear_model.html#logistic-regression\n",
      "  extra_warning_msg=_LOGISTIC_SOLVER_CONVERGENCE_MSG)\n",
      "C:\\Users\\sathi\\Anaconda3\\lib\\site-packages\\sklearn\\linear_model\\_logistic.py:764: ConvergenceWarning: lbfgs failed to converge (status=1):\n",
      "STOP: TOTAL NO. of ITERATIONS REACHED LIMIT.\n",
      "\n",
      "Increase the number of iterations (max_iter) or scale the data as shown in:\n",
      "    https://scikit-learn.org/stable/modules/preprocessing.html\n",
      "Please also refer to the documentation for alternative solver options:\n",
      "    https://scikit-learn.org/stable/modules/linear_model.html#logistic-regression\n",
      "  extra_warning_msg=_LOGISTIC_SOLVER_CONVERGENCE_MSG)\n",
      "C:\\Users\\sathi\\Anaconda3\\lib\\site-packages\\sklearn\\linear_model\\_logistic.py:764: ConvergenceWarning: lbfgs failed to converge (status=1):\n",
      "STOP: TOTAL NO. of ITERATIONS REACHED LIMIT.\n",
      "\n",
      "Increase the number of iterations (max_iter) or scale the data as shown in:\n",
      "    https://scikit-learn.org/stable/modules/preprocessing.html\n",
      "Please also refer to the documentation for alternative solver options:\n",
      "    https://scikit-learn.org/stable/modules/linear_model.html#logistic-regression\n",
      "  extra_warning_msg=_LOGISTIC_SOLVER_CONVERGENCE_MSG)\n",
      "C:\\Users\\sathi\\Anaconda3\\lib\\site-packages\\sklearn\\linear_model\\_logistic.py:764: ConvergenceWarning: lbfgs failed to converge (status=1):\n",
      "STOP: TOTAL NO. of ITERATIONS REACHED LIMIT.\n",
      "\n",
      "Increase the number of iterations (max_iter) or scale the data as shown in:\n",
      "    https://scikit-learn.org/stable/modules/preprocessing.html\n",
      "Please also refer to the documentation for alternative solver options:\n",
      "    https://scikit-learn.org/stable/modules/linear_model.html#logistic-regression\n",
      "  extra_warning_msg=_LOGISTIC_SOLVER_CONVERGENCE_MSG)\n",
      "C:\\Users\\sathi\\Anaconda3\\lib\\site-packages\\sklearn\\linear_model\\_logistic.py:764: ConvergenceWarning: lbfgs failed to converge (status=1):\n",
      "STOP: TOTAL NO. of ITERATIONS REACHED LIMIT.\n",
      "\n",
      "Increase the number of iterations (max_iter) or scale the data as shown in:\n",
      "    https://scikit-learn.org/stable/modules/preprocessing.html\n",
      "Please also refer to the documentation for alternative solver options:\n",
      "    https://scikit-learn.org/stable/modules/linear_model.html#logistic-regression\n",
      "  extra_warning_msg=_LOGISTIC_SOLVER_CONVERGENCE_MSG)\n",
      "C:\\Users\\sathi\\Anaconda3\\lib\\site-packages\\sklearn\\linear_model\\_logistic.py:764: ConvergenceWarning: lbfgs failed to converge (status=1):\n",
      "STOP: TOTAL NO. of ITERATIONS REACHED LIMIT.\n",
      "\n",
      "Increase the number of iterations (max_iter) or scale the data as shown in:\n",
      "    https://scikit-learn.org/stable/modules/preprocessing.html\n",
      "Please also refer to the documentation for alternative solver options:\n",
      "    https://scikit-learn.org/stable/modules/linear_model.html#logistic-regression\n",
      "  extra_warning_msg=_LOGISTIC_SOLVER_CONVERGENCE_MSG)\n",
      "C:\\Users\\sathi\\Anaconda3\\lib\\site-packages\\sklearn\\linear_model\\_logistic.py:764: ConvergenceWarning: lbfgs failed to converge (status=1):\n",
      "STOP: TOTAL NO. of ITERATIONS REACHED LIMIT.\n",
      "\n",
      "Increase the number of iterations (max_iter) or scale the data as shown in:\n",
      "    https://scikit-learn.org/stable/modules/preprocessing.html\n",
      "Please also refer to the documentation for alternative solver options:\n",
      "    https://scikit-learn.org/stable/modules/linear_model.html#logistic-regression\n",
      "  extra_warning_msg=_LOGISTIC_SOLVER_CONVERGENCE_MSG)\n"
     ]
    },
    {
     "data": {
      "text/plain": [
       "GridSearchCV(cv=5, estimator=LogisticRegression(),\n",
       "             param_grid={'C': array([1.00000000e-05, 8.48342898e-05, 7.19685673e-04, 6.10540230e-03,\n",
       "       5.17947468e-02, 4.39397056e-01, 3.72759372e+00, 3.16227766e+01,\n",
       "       2.68269580e+02, 2.27584593e+03, 1.93069773e+04, 1.63789371e+05,\n",
       "       1.38949549e+06, 1.17876863e+07, 1.00000000e+08])})"
      ]
     },
     "execution_count": 390,
     "metadata": {},
     "output_type": "execute_result"
    }
   ],
   "source": [
    "#LOGISTIC REGRESSION\n",
    "from sklearn.model_selection import GridSearchCV \n",
    "  \n",
    "# Creating the hyperparameter grid \n",
    "c_space = np.logspace(-5, 8, 15) \n",
    "param_grid = {'C': c_space} \n",
    "  \n",
    "# Instantiating logistic regression classifier \n",
    "logreg = LogisticRegression() \n",
    "  \n",
    "# Instantiating the GridSearchCV object \n",
    "logreg_cv = GridSearchCV(logreg, param_grid, cv = 5) \n",
    "  \n",
    "logreg_cv.fit(X_sm_t, y_sm_t) "
   ]
  },
  {
   "cell_type": "code",
   "execution_count": 391,
   "metadata": {},
   "outputs": [
    {
     "data": {
      "text/plain": [
       "0.7218265475486416"
      ]
     },
     "execution_count": 391,
     "metadata": {},
     "output_type": "execute_result"
    }
   ],
   "source": [
    "logreg_cv.best_score_"
   ]
  },
  {
   "cell_type": "code",
   "execution_count": 392,
   "metadata": {},
   "outputs": [
    {
     "data": {
      "text/plain": [
       "{'C': 11787686.347935867}"
      ]
     },
     "execution_count": 392,
     "metadata": {},
     "output_type": "execute_result"
    }
   ],
   "source": [
    "logreg_cv.best_params_"
   ]
  },
  {
   "cell_type": "code",
   "execution_count": 397,
   "metadata": {},
   "outputs": [
    {
     "name": "stderr",
     "output_type": "stream",
     "text": [
      "C:\\Users\\sathi\\Anaconda3\\lib\\site-packages\\sklearn\\linear_model\\_logistic.py:764: ConvergenceWarning: lbfgs failed to converge (status=1):\n",
      "STOP: TOTAL NO. of ITERATIONS REACHED LIMIT.\n",
      "\n",
      "Increase the number of iterations (max_iter) or scale the data as shown in:\n",
      "    https://scikit-learn.org/stable/modules/preprocessing.html\n",
      "Please also refer to the documentation for alternative solver options:\n",
      "    https://scikit-learn.org/stable/modules/linear_model.html#logistic-regression\n",
      "  extra_warning_msg=_LOGISTIC_SOLVER_CONVERGENCE_MSG)\n"
     ]
    },
    {
     "data": {
      "text/plain": [
       "LogisticRegression(C=11787686.347935867,\n",
       "                   class_weight={1: 0.4468120456905504, 2: 0.6825507614213198,\n",
       "                                 3: 1.915761353517364, 4: 2.3108485499462943,\n",
       "                                 5: 2.9230978260869565})"
      ]
     },
     "execution_count": 397,
     "metadata": {},
     "output_type": "execute_result"
    }
   ],
   "source": [
    "lr=LogisticRegression(C=11787686.347935867,class_weight=weight)\n",
    "lr.fit(X_sm_t, y_sm_t)"
   ]
  },
  {
   "cell_type": "code",
   "execution_count": null,
   "metadata": {},
   "outputs": [],
   "source": []
  },
  {
   "cell_type": "code",
   "execution_count": 398,
   "metadata": {},
   "outputs": [
    {
     "data": {
      "text/plain": [
       "array([4, 5, 5, ..., 5, 5, 5], dtype=int64)"
      ]
     },
     "execution_count": 398,
     "metadata": {},
     "output_type": "execute_result"
    }
   ],
   "source": [
    "pred=lr.predict(X_Test_Dtm)\n",
    "pred"
   ]
  },
  {
   "cell_type": "code",
   "execution_count": 399,
   "metadata": {},
   "outputs": [
    {
     "data": {
      "text/plain": [
       "0.6017847183491355"
      ]
     },
     "execution_count": 399,
     "metadata": {},
     "output_type": "execute_result"
    }
   ],
   "source": [
    "metrics.accuracy_score(y_test,pred)"
   ]
  },
  {
   "cell_type": "code",
   "execution_count": null,
   "metadata": {},
   "outputs": [],
   "source": []
  },
  {
   "cell_type": "code",
   "execution_count": null,
   "metadata": {},
   "outputs": [],
   "source": []
  },
  {
   "cell_type": "code",
   "execution_count": null,
   "metadata": {},
   "outputs": [],
   "source": []
  },
  {
   "cell_type": "code",
   "execution_count": 317,
   "metadata": {},
   "outputs": [
    {
     "data": {
      "text/plain": [
       "0       just superb rendezvous just perfect property s...\n",
       "1       better close staten island ferry easy subway  ...\n",
       "2       enjoyed stay  just come long weekend barcelona...\n",
       "3       muse great  muse hotel great  did n t hear noi...\n",
       "4       conveniently located morning flight  family st...\n",
       "                              ...                        \n",
       "6143    great hotel precruise great hotel arrived earl...\n",
       "6144    great choice just returned nights grand hotel ...\n",
       "6145    overpriced tiny rooms kowloon past use date ne...\n",
       "6146    ok  agree said positive staff helpful rooms cl...\n",
       "6147    great location husband stayed new orleans     ...\n",
       "Name: Review, Length: 6148, dtype: object"
      ]
     },
     "execution_count": 317,
     "metadata": {},
     "output_type": "execute_result"
    }
   ],
   "source": [
    "# we have already a test data..we can apply test_X data to check the accuaracy of a predicted model\n",
    "test_X=test_data[\"Review\"]\n",
    "test_X"
   ]
  },
  {
   "cell_type": "code",
   "execution_count": 320,
   "metadata": {},
   "outputs": [
    {
     "data": {
      "text/plain": [
       "<6148x430784 sparse matrix of type '<class 'numpy.float64'>'\n",
       "\twith 506519 stored elements in Compressed Sparse Row format>"
      ]
     },
     "execution_count": 320,
     "metadata": {},
     "output_type": "execute_result"
    }
   ],
   "source": [
    "# transform testing data (using fitted vocabulary) into a document-term matrix\n",
    "X_test_datas = vectorizer.transform(test_X)\n",
    "X_test_datas"
   ]
  },
  {
   "cell_type": "code",
   "execution_count": 323,
   "metadata": {},
   "outputs": [
    {
     "name": "stdout",
     "output_type": "stream",
     "text": [
      "[5 4 4 ... 3 4 4]\n"
     ]
    }
   ],
   "source": [
    "y_pred=model.predict(X_test_datas)\n",
    "print(y_pred)"
   ]
  },
  {
   "cell_type": "code",
   "execution_count": null,
   "metadata": {},
   "outputs": [],
   "source": []
  },
  {
   "cell_type": "code",
   "execution_count": null,
   "metadata": {},
   "outputs": [],
   "source": []
  },
  {
   "cell_type": "code",
   "execution_count": null,
   "metadata": {},
   "outputs": [],
   "source": []
  },
  {
   "cell_type": "code",
   "execution_count": null,
   "metadata": {},
   "outputs": [],
   "source": [
    "print(NB_Classifier_result())\n",
    "print(LG_Classifier_result())\n",
    "print(SVM_Classifier_result())\n",
    "print(XG_Classifier_result())\n",
    "print(SGD_Classifier_result())\n",
    "print(RF_Classifier_result())"
   ]
  },
  {
   "cell_type": "code",
   "execution_count": null,
   "metadata": {},
   "outputs": [],
   "source": []
  },
  {
   "cell_type": "code",
   "execution_count": 324,
   "metadata": {},
   "outputs": [
    {
     "data": {
      "text/html": [
       "<div>\n",
       "<style scoped>\n",
       "    .dataframe tbody tr th:only-of-type {\n",
       "        vertical-align: middle;\n",
       "    }\n",
       "\n",
       "    .dataframe tbody tr th {\n",
       "        vertical-align: top;\n",
       "    }\n",
       "\n",
       "    .dataframe thead th {\n",
       "        text-align: right;\n",
       "    }\n",
       "</style>\n",
       "<table border=\"1\" class=\"dataframe\">\n",
       "  <thead>\n",
       "    <tr style=\"text-align: right;\">\n",
       "      <th></th>\n",
       "      <th>ID</th>\n",
       "      <th>Rating</th>\n",
       "    </tr>\n",
       "  </thead>\n",
       "  <tbody>\n",
       "    <tr>\n",
       "      <th>0</th>\n",
       "      <td>0</td>\n",
       "      <td>5</td>\n",
       "    </tr>\n",
       "    <tr>\n",
       "      <th>1</th>\n",
       "      <td>1</td>\n",
       "      <td>2</td>\n",
       "    </tr>\n",
       "    <tr>\n",
       "      <th>2</th>\n",
       "      <td>2</td>\n",
       "      <td>4</td>\n",
       "    </tr>\n",
       "    <tr>\n",
       "      <th>3</th>\n",
       "      <td>3</td>\n",
       "      <td>5</td>\n",
       "    </tr>\n",
       "    <tr>\n",
       "      <th>4</th>\n",
       "      <td>4</td>\n",
       "      <td>4</td>\n",
       "    </tr>\n",
       "    <tr>\n",
       "      <th>...</th>\n",
       "      <td>...</td>\n",
       "      <td>...</td>\n",
       "    </tr>\n",
       "    <tr>\n",
       "      <th>6143</th>\n",
       "      <td>6143</td>\n",
       "      <td>5</td>\n",
       "    </tr>\n",
       "    <tr>\n",
       "      <th>6144</th>\n",
       "      <td>6144</td>\n",
       "      <td>5</td>\n",
       "    </tr>\n",
       "    <tr>\n",
       "      <th>6145</th>\n",
       "      <td>6145</td>\n",
       "      <td>3</td>\n",
       "    </tr>\n",
       "    <tr>\n",
       "      <th>6146</th>\n",
       "      <td>6146</td>\n",
       "      <td>4</td>\n",
       "    </tr>\n",
       "    <tr>\n",
       "      <th>6147</th>\n",
       "      <td>6147</td>\n",
       "      <td>3</td>\n",
       "    </tr>\n",
       "  </tbody>\n",
       "</table>\n",
       "<p>6148 rows × 2 columns</p>\n",
       "</div>"
      ],
      "text/plain": [
       "        ID  Rating\n",
       "0        0       5\n",
       "1        1       2\n",
       "2        2       4\n",
       "3        3       5\n",
       "4        4       4\n",
       "...    ...     ...\n",
       "6143  6143       5\n",
       "6144  6144       5\n",
       "6145  6145       3\n",
       "6146  6146       4\n",
       "6147  6147       3\n",
       "\n",
       "[6148 rows x 2 columns]"
      ]
     },
     "execution_count": 324,
     "metadata": {},
     "output_type": "execute_result"
    }
   ],
   "source": [
    "#upload sample submission file\n",
    "sample_df=pd.read_csv(\"sample submission (2).csv\")\n",
    "sample_df"
   ]
  },
  {
   "cell_type": "code",
   "execution_count": 325,
   "metadata": {},
   "outputs": [],
   "source": [
    "#adding predicted Item_Outlet_Sales in to sample_df\n",
    "pred=pd.DataFrame(y_pred)\n",
    "data=pd.concat([sample_df[\"ID\"],pred],axis=1)\n",
    "\n",
    "data.columns=[\"ID\",\"Rating\"]\n",
    "data.to_csv(\"sample submission (2).csv\",index=False)"
   ]
  },
  {
   "cell_type": "code",
   "execution_count": null,
   "metadata": {},
   "outputs": [],
   "source": []
  },
  {
   "cell_type": "code",
   "execution_count": null,
   "metadata": {},
   "outputs": [],
   "source": []
  },
  {
   "cell_type": "code",
   "execution_count": null,
   "metadata": {},
   "outputs": [],
   "source": []
  },
  {
   "cell_type": "code",
   "execution_count": null,
   "metadata": {},
   "outputs": [],
   "source": []
  },
  {
   "cell_type": "code",
   "execution_count": null,
   "metadata": {},
   "outputs": [],
   "source": []
  }
 ],
 "metadata": {
  "kernelspec": {
   "display_name": "Python 3",
   "language": "python",
   "name": "python3"
  },
  "language_info": {
   "codemirror_mode": {
    "name": "ipython",
    "version": 3
   },
   "file_extension": ".py",
   "mimetype": "text/x-python",
   "name": "python",
   "nbconvert_exporter": "python",
   "pygments_lexer": "ipython3",
   "version": "3.7.4"
  }
 },
 "nbformat": 4,
 "nbformat_minor": 4
}
